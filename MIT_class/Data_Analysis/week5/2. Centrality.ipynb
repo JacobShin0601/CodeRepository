{
 "cells": [
  {
   "cell_type": "code",
   "execution_count": 12,
   "metadata": {},
   "outputs": [],
   "source": [
    "import numpy as np\n",
    "from numpy import linalg\n",
    "import networkx as nx\n",
    "import matplotlib.pyplot as plt"
   ]
  },
  {
   "cell_type": "code",
   "execution_count": 6,
   "metadata": {},
   "outputs": [
    {
     "name": "stdout",
     "output_type": "stream",
     "text": [
      "[0. 0. 0. 1.] \n",
      " [[0.  0.  0.  0.5]\n",
      " [0.  1.  0.  0.5]\n",
      " [0.  0.  1.  0.5]\n",
      " [1.  0.  0.  0.5]]\n"
     ]
    }
   ],
   "source": [
    "A = np.array([[1,0,0,0],\n",
    "    [1,0,0,0],\n",
    "    [1,0,0,0],\n",
    "    [1,0,0,0]])\n",
    "\n",
    "eiVal_A, eiVec_A = linalg.eig(A)\n",
    "\n",
    "print(eiVal_A, '\\n', eiVec_A)\n"
   ]
  },
  {
   "cell_type": "code",
   "execution_count": 20,
   "metadata": {},
   "outputs": [
    {
     "name": "stderr",
     "output_type": "stream",
     "text": [
      "c:\\Users\\shin\\anaconda3\\envs\\6.86x\\lib\\site-packages\\networkx\\drawing\\nx_pylab.py:563: MatplotlibDeprecationWarning: \n",
      "The iterable function was deprecated in Matplotlib 3.1 and will be removed in 3.3. Use np.iterable instead.\n",
      "  if not cb.iterable(width):\n",
      "c:\\Users\\shin\\anaconda3\\envs\\6.86x\\lib\\site-packages\\networkx\\drawing\\nx_pylab.py:660: MatplotlibDeprecationWarning: \n",
      "The iterable function was deprecated in Matplotlib 3.1 and will be removed in 3.3. Use np.iterable instead.\n",
      "  if cb.iterable(node_size):  # many node sizes\n"
     ]
    },
    {
     "data": {
      "image/png": "[encoded data removed]",
      "text/plain": [
       "<Figure size 432x288 with 1 Axes>"
      ]
     },
     "metadata": {},
     "output_type": "display_data"
    }
   ],
   "source": [
    "# G = nx.DiGraph()\n",
    "G = nx.from_numpy_array(A, create_using=nx.DiGraph())\n",
    "nx.draw(G, with_labels = True, node_color = 'blue', arrowstyle = '->', arrowsize = 10)\n",
    "plt.show()"
   ]
  },
  {
   "cell_type": "code",
   "execution_count": 21,
   "metadata": {},
   "outputs": [
    {
     "name": "stdout",
     "output_type": "stream",
     "text": [
      "{0: 0.9999999999986358, 1: 9.536770448968607e-07, 2: 9.536770448968607e-07, 3: 9.536770448968607e-07}\n"
     ]
    }
   ],
   "source": [
    "eiven_centrality = nx.eigenvector_centrality(G)\n",
    "print(eiven_centrality)"
   ]
  },
  {
   "cell_type": "code",
   "execution_count": 23,
   "metadata": {},
   "outputs": [
    {
     "name": "stdout",
     "output_type": "stream",
     "text": [
      "[1. 0. 0. 0.] \n",
      " [[ 1.         -0.70710678 -0.70710678 -0.70710678]\n",
      " [ 0.          0.70710678  0.          0.        ]\n",
      " [ 0.          0.          0.70710678  0.        ]\n",
      " [ 0.          0.          0.          0.70710678]]\n"
     ]
    }
   ],
   "source": [
    "B = np.array([[1,1,1,1],\n",
    "    [0,0,0,0],\n",
    "    [0,0,0,0],\n",
    "    [0,0,0,0]])\n",
    "\n",
    "eiVal_B, eiVec_B = linalg.eig(B)\n",
    "print(eiVal_B, '\\n', eiVec_B)"
   ]
  },
  {
   "cell_type": "code",
   "execution_count": 24,
   "metadata": {},
   "outputs": [
    {
     "name": "stderr",
     "output_type": "stream",
     "text": [
      "c:\\Users\\shin\\anaconda3\\envs\\6.86x\\lib\\site-packages\\networkx\\drawing\\nx_pylab.py:563: MatplotlibDeprecationWarning: \n",
      "The iterable function was deprecated in Matplotlib 3.1 and will be removed in 3.3. Use np.iterable instead.\n",
      "  if not cb.iterable(width):\n",
      "c:\\Users\\shin\\anaconda3\\envs\\6.86x\\lib\\site-packages\\networkx\\drawing\\nx_pylab.py:660: MatplotlibDeprecationWarning: \n",
      "The iterable function was deprecated in Matplotlib 3.1 and will be removed in 3.3. Use np.iterable instead.\n",
      "  if cb.iterable(node_size):  # many node sizes\n"
     ]
    },
    {
     "data": {
      "image/png": "[encoded data removed]",
      "text/plain": [
       "<Figure size 432x288 with 1 Axes>"
      ]
     },
     "metadata": {},
     "output_type": "display_data"
    }
   ],
   "source": [
    "# G = nx.DiGraph()\n",
    "G = nx.from_numpy_array(B, create_using=nx.DiGraph())\n",
    "nx.draw(G, with_labels = True, node_color = 'blue', arrowstyle = '->', arrowsize = 10)\n",
    "plt.show()"
   ]
  },
  {
   "cell_type": "code",
   "execution_count": 25,
   "metadata": {},
   "outputs": [
    {
     "name": "stdout",
     "output_type": "stream",
     "text": [
      "{0: 0.5, 1: 0.5, 2: 0.5, 3: 0.5}\n"
     ]
    }
   ],
   "source": [
    "eiven_centrality = nx.eigenvector_centrality(G)\n",
    "print(eiven_centrality)"
   ]
  },
  {
   "cell_type": "code",
   "execution_count": 26,
   "metadata": {},
   "outputs": [
    {
     "name": "stdout",
     "output_type": "stream",
     "text": [
      "[ 2.30277564 -1.30277564  0.          0.        ] \n",
      " [[ 7.99171477e-01  6.01103112e-01 -8.27956221e-34 -8.27956221e-34]\n",
      " [ 3.47047043e-01 -4.61401867e-01 -5.77350269e-01 -5.77350269e-01]\n",
      " [ 3.47047043e-01 -4.61401867e-01  7.88675135e-01 -2.11324865e-01]\n",
      " [ 3.47047043e-01 -4.61401867e-01 -2.11324865e-01  7.88675135e-01]]\n"
     ]
    }
   ],
   "source": [
    "C = np.array([[1,1,1,1],\n",
    "    [1,0,0,0],\n",
    "    [1,0,0,0],\n",
    "    [1,0,0,0]])\n",
    "\n",
    "eiVal_C, eiVec_C = linalg.eig(C)\n",
    "print(eiVal_C, '\\n', eiVec_C)"
   ]
  },
  {
   "cell_type": "code",
   "execution_count": 27,
   "metadata": {},
   "outputs": [
    {
     "name": "stderr",
     "output_type": "stream",
     "text": [
      "c:\\Users\\shin\\anaconda3\\envs\\6.86x\\lib\\site-packages\\networkx\\drawing\\nx_pylab.py:563: MatplotlibDeprecationWarning: \n",
      "The iterable function was deprecated in Matplotlib 3.1 and will be removed in 3.3. Use np.iterable instead.\n",
      "  if not cb.iterable(width):\n",
      "c:\\Users\\shin\\anaconda3\\envs\\6.86x\\lib\\site-packages\\networkx\\drawing\\nx_pylab.py:660: MatplotlibDeprecationWarning: \n",
      "The iterable function was deprecated in Matplotlib 3.1 and will be removed in 3.3. Use np.iterable instead.\n",
      "  if cb.iterable(node_size):  # many node sizes\n"
     ]
    },
    {
     "data": {
      "image/png": "[encoded data removed]",
      "text/plain": [
       "<Figure size 432x288 with 1 Axes>"
      ]
     },
     "metadata": {},
     "output_type": "display_data"
    }
   ],
   "source": [
    "# G = nx.DiGraph()\n",
    "G = nx.from_numpy_array(C, create_using=nx.DiGraph())\n",
    "nx.draw(G, with_labels = True, node_color = 'blue', arrowstyle = '->', arrowsize = 10)\n",
    "plt.show()"
   ]
  },
  {
   "cell_type": "code",
   "execution_count": 28,
   "metadata": {},
   "outputs": [
    {
     "name": "stdout",
     "output_type": "stream",
     "text": [
      "{0: 0.7991714905460789, 1: 0.34704703269074766, 2: 0.34704703269074766, 3: 0.34704703269074766}\n"
     ]
    }
   ],
   "source": [
    "eiven_centrality = nx.eigenvector_centrality(G)\n",
    "print(eiven_centrality)"
   ]
  },
  {
   "cell_type": "code",
   "execution_count": 29,
   "metadata": {},
   "outputs": [
    {
     "name": "stderr",
     "output_type": "stream",
     "text": [
      "c:\\Users\\shin\\anaconda3\\envs\\6.86x\\lib\\site-packages\\networkx\\drawing\\nx_pylab.py:563: MatplotlibDeprecationWarning: \n",
      "The iterable function was deprecated in Matplotlib 3.1 and will be removed in 3.3. Use np.iterable instead.\n",
      "  if not cb.iterable(width):\n",
      "c:\\Users\\shin\\anaconda3\\envs\\6.86x\\lib\\site-packages\\networkx\\drawing\\nx_pylab.py:660: MatplotlibDeprecationWarning: \n",
      "The iterable function was deprecated in Matplotlib 3.1 and will be removed in 3.3. Use np.iterable instead.\n",
      "  if cb.iterable(node_size):  # many node sizes\n"
     ]
    },
    {
     "data": {
      "image/png": "[encoded data removed]",
      "text/plain": [
       "<Figure size 432x288 with 1 Axes>"
      ]
     },
     "metadata": {},
     "output_type": "display_data"
    }
   ],
   "source": [
    "D = np.array([[0,1,1,1],\n",
    "    [0,0,0,0],\n",
    "    [0,0,0,0],\n",
    "    [0,0,0,0]])\n",
    "\n",
    "G = nx.from_numpy_array(D, create_using=nx.DiGraph())\n",
    "nx.draw(G, with_labels = True, node_color = 'blue', arrowstyle = '->', arrowsize = 10)\n",
    "plt.show()"
   ]
  },
  {
   "cell_type": "code",
   "execution_count": 39,
   "metadata": {},
   "outputs": [
    {
     "name": "stdout",
     "output_type": "stream",
     "text": [
      "{0: 0.46473941234017313, 1: 0.5112133535741905, 2: 0.5112133535741905, 3: 0.5112133535741905}\n",
      "<class 'dict'>\n",
      "[0.46473941234017313, 0.5112133535741905, 0.5112133535741905, 0.5112133535741905]\n",
      "[0.46473941 0.51121335 0.51121335 0.51121335]\n"
     ]
    }
   ],
   "source": [
    "katz_centrality = nx.katz_centrality(G, alpha = 0.1, beta = 1)\n",
    "print(katz_centrality)\n",
    "\n",
    "print(type(katz_centrality))\n",
    "# katz_value = []\n",
    "# katz_value.append(katz_centrality.value[i] for i in range(len(katz_centrality)))\n",
    "katz_value = katz_centrality.values()\n",
    "katz_value_lst = list(katz_value)\n",
    "print(katz_value_lst)\n",
    "\n",
    "\n",
    "\n",
    "norm_katz = np.linalg.norm(katz_value_lst)\n",
    "normalized_katz = katz_value_lst/norm_katz\n",
    "print(normalized_katz)"
   ]
  },
  {
   "cell_type": "code",
   "execution_count": 40,
   "metadata": {},
   "outputs": [
    {
     "name": "stderr",
     "output_type": "stream",
     "text": [
      "c:\\Users\\shin\\anaconda3\\envs\\6.86x\\lib\\site-packages\\networkx\\drawing\\nx_pylab.py:563: MatplotlibDeprecationWarning: \n",
      "The iterable function was deprecated in Matplotlib 3.1 and will be removed in 3.3. Use np.iterable instead.\n",
      "  if not cb.iterable(width):\n",
      "c:\\Users\\shin\\anaconda3\\envs\\6.86x\\lib\\site-packages\\networkx\\drawing\\nx_pylab.py:660: MatplotlibDeprecationWarning: \n",
      "The iterable function was deprecated in Matplotlib 3.1 and will be removed in 3.3. Use np.iterable instead.\n",
      "  if cb.iterable(node_size):  # many node sizes\n"
     ]
    },
    {
     "data": {
      "image/png": "[encoded data removed]",
      "text/plain": [
       "<Figure size 432x288 with 1 Axes>"
      ]
     },
     "metadata": {},
     "output_type": "display_data"
    }
   ],
   "source": [
    "E = np.array([[0, 1, 1, 1, 1, 1, 1],\n",
    "    [1, 0, 1, 0, 0, 0, 0],\n",
    "    [1, 1, 0, 0, 0, 0, 0],\n",
    "    [1, 0, 0, 0, 1, 0, 0],\n",
    "    [1, 0, 0, 1, 0, 0, 0],\n",
    "    [1, 0, 0, 0, 0, 0, 0],\n",
    "    [1, 0, 0, 0, 0, 1, 0]])\n",
    "\n",
    "G = nx.from_numpy_array(E, create_using=nx.DiGraph())\n",
    "nx.draw(G, with_labels = True, node_color = 'blue', arrowstyle = '->', arrowsize = 10)\n",
    "plt.show()"
   ]
  },
  {
   "cell_type": "code",
   "execution_count": 41,
   "metadata": {},
   "outputs": [
    {
     "name": "stdout",
     "output_type": "stream",
     "text": [
      "{0: 0.4902924835393532, 1: 0.36220399817757487, 2: 0.36220399817757487, 3: 0.36220399817757487, 4: 0.36220399817757487, 5: 0.358581961957795, 6: 0.3259836068884889}\n",
      "<class 'dict'>\n",
      "[0.4902924835393532, 0.36220399817757487, 0.36220399817757487, 0.36220399817757487, 0.36220399817757487, 0.358581961957795, 0.3259836068884889]\n",
      "[0.49029248 0.362204   0.362204   0.362204   0.362204   0.35858196\n",
      " 0.32598361]\n"
     ]
    }
   ],
   "source": [
    "katz_centrality = nx.katz_centrality(G, alpha = 0.1, beta = 1)\n",
    "print(katz_centrality)\n",
    "\n",
    "print(type(katz_centrality))\n",
    "# katz_value = []\n",
    "# katz_value.append(katz_centrality.value[i] for i in range(len(katz_centrality)))\n",
    "katz_value = katz_centrality.values()\n",
    "katz_value_lst = list(katz_value)\n",
    "print(katz_value_lst)\n",
    "\n",
    "\n",
    "\n",
    "norm_katz = np.linalg.norm(katz_value_lst)\n",
    "normalized_katz = katz_value_lst/norm_katz\n",
    "print(normalized_katz)"
   ]
  },
  {
   "cell_type": "code",
   "execution_count": 43,
   "metadata": {},
   "outputs": [
    {
     "name": "stdout",
     "output_type": "stream",
     "text": [
      "{0: 0.34304448774341056, 1: 0.12178528787052985, 2: 0.1217852878705298, 3: 0.1217852878705298, 4: 0.1217852878705298, 5: 0.09978782024891537, 6: 0.0700265405255547}\n",
      "[0.34304448774341056, 0.12178528787052985, 0.1217852878705298, 0.1217852878705298, 0.1217852878705298, 0.09978782024891537, 0.0700265405255547]\n",
      "[0.78315869 0.27803159 0.27803159 0.27803159 0.27803159 0.22781214\n",
      " 0.15986817]\n"
     ]
    }
   ],
   "source": [
    "page_rank_centrality = nx.pagerank_numpy(G, alpha = 0.85)\n",
    "print(page_rank_centrality)\n",
    "\n",
    "page_value = page_rank_centrality.values()\n",
    "page_value_lst = list(page_value)\n",
    "print(page_value_lst)\n",
    "\n",
    "\n",
    "\n",
    "norm_page = np.linalg.norm(page_value_lst)\n",
    "normalized_page = page_value_lst/norm_page\n",
    "print(normalized_page)"
   ]
  }
 ],
 "metadata": {
  "kernelspec": {
   "display_name": "Python 3.6.13 ('6.86x')",
   "language": "python",
   "name": "python3"
  },
  "language_info": {
   "codemirror_mode": {
    "name": "ipython",
    "version": 3
   },
   "file_extension": ".py",
   "mimetype": "text/x-python",
   "name": "python",
   "nbconvert_exporter": "python",
   "pygments_lexer": "ipython3",
   "version": "3.6.13"
  },
  "orig_nbformat": 4,
  "vscode": {
   "interpreter": {
    "hash": "c4cd6255e7d506af5b310c9db8e5590bb7e9ff47ad141b2fd33807f877700131"
   }
  }
 },
 "nbformat": 4,
 "nbformat_minor": 2
}
