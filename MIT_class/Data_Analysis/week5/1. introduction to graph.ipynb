{
 "cells": [
  {
   "cell_type": "code",
   "execution_count": 1,
   "metadata": {},
   "outputs": [],
   "source": [
    "import networkx as nx\n",
    "import numpy as np\n",
    "from scipy.sparse import csr_matrix\n",
    "from scipy.sparse.csgraph import connected_components\n",
    "import csv\n",
    "import matplotlib.pyplot as plt\n",
    "import networkx.algorithms.community as nx_comm\n",
    "from networkx.drawing.nx_agraph import write_dot\n",
    "from networkx.drawing.nx_agraph import to_agraph "
   ]
  },
  {
   "cell_type": "code",
   "execution_count": 2,
   "metadata": {},
   "outputs": [
    {
     "name": "stdout",
     "output_type": "stream",
     "text": [
      "Possibly undirected?:  True\n",
      "L which contains all non-zero comp: 4\n",
      "L: \n",
      " [[19 14  7 21 12 11  2  7 11  5]\n",
      " [14 28  2 14  6 17  2 10 19 10]\n",
      " [ 7  2  4 10  7  2  1  1  2  2]\n",
      " [21 14 10 37 20 11  2  4  8 11]\n",
      " [12  6  7 20 18  4  5  2  9  9]\n",
      " [11 17  2 11  4 12  1  7 11  4]\n",
      " [ 2  2  1  2  5  1  3  1  5  2]\n",
      " [ 7 10  1  4  2  7  1  5  8  2]\n",
      " [11 19  2  8  9 11  5  8 19  9]\n",
      " [ 5 10  2 11  9  4  2  2  9 13]]\n",
      "The number of connected components: 1\n",
      "The maximum number of degree of the graph: 5\n",
      "0-0 node in B^5: 46\n"
     ]
    }
   ],
   "source": [
    "B = np.array([[0, 1, 0, 1, 0, 1, 0, 0, 0, 0],\n",
    "\t[1, 0, 1, 1, 1, 0, 0, 0, 0, 0],\n",
    "\t[0, 1, 0, 0, 0, 0, 0, 0, 0, 0],\n",
    "\t[1, 1, 0, 0, 0, 1, 0, 1, 1, 0],\n",
    "\t[0, 1, 0, 0, 0, 0, 0, 0, 1, 1],\n",
    "\t[1, 0, 0, 1, 0, 0, 0, 0, 0, 0],\n",
    "\t[0, 0, 0, 0, 0, 0, 0, 0, 0, 1],\n",
    "\t[0, 0, 0, 1, 0, 0, 0, 0, 0, 0],\n",
    "\t[0, 0, 0, 1, 1, 0, 0, 0, 0, 1],\n",
    "\t[0, 0, 0, 0, 1, 0, 1, 0, 1, 0]])\n",
    "\n",
    "# graph = csr_matrix(B)\n",
    "# #print(B)\n",
    "\n",
    "# n_components, labels = connected_components(csgraph=graph, directed=False, return_labels=True)\n",
    "# print(n_components)\n",
    "# print(labels)\n",
    "\n",
    "### 1. check if it's simple or not\n",
    "G = nx.from_numpy_matrix(B)\n",
    "# degree = nx.laplacian_matrix(G).toarray()\n",
    "#nx.draw(G, with_labels = True, color = 'blue')\n",
    "\n",
    "A = to_agraph(G) \n",
    "A.layout('dot')  \n",
    "A.draw('G.png')\n",
    "\n",
    "### 2. check if it's possibly undirected or not\n",
    "B_trans = B.T\n",
    "check = np.all(B==B_trans)\n",
    "print('Possibly undirected?: ', check)\n",
    "\n",
    "\n",
    "### 3. check if all the components are connected or not\n",
    "### 4. check when they can get all non-zero components\n",
    "B_new = B\n",
    "for i in range(10):\n",
    "\tB_new = B_new@B\n",
    " \n",
    "\tif np.all(B_new != 0):\n",
    "\t\tprint('L which contains all non-zero comp:', i+2)\n",
    "\t\tbreak\n",
    "print('L: \\n', B_new)\n",
    "\n",
    "### 5. the number of connected components\n",
    "print('The number of connected components:', len(list(nx.connected_components(G))))\n",
    "\n",
    "### 6. The maximum number of degree of the graph\n",
    "print('The maximum number of degree of the graph:', max(G.degree, key=lambda item:item[1])[1])\n",
    "\n",
    "### 7. 0-0 node value of B^5\n",
    "B5 = B@B@B@B@B\n",
    "print('0-0 node in B^5:', B5[0, 0])\n"
   ]
  },
  {
   "cell_type": "code",
   "execution_count": 3,
   "metadata": {},
   "outputs": [
    {
     "name": "stdout",
     "output_type": "stream",
     "text": [
      "The number of nodes: 100\n",
      "The number of edges: 1030\n",
      "The number of self-loops: 8\n",
      "Directed cycle: [(3.0, 4.0, 'forward'), (4.0, 3.0, 'forward')]\n"
     ]
    }
   ],
   "source": [
    "with open('release_directed_graph.txt', 'rb') as file:\n",
    "    G = nx.DiGraph()\n",
    "    graph_array = np.loadtxt(file)\n",
    "    #print(graph_array)\n",
    "    for i in range(graph_array.shape[0]):\n",
    "        G.add_edge(graph_array[i][0], graph_array[i][1])\n",
    "    \n",
    "    #print(G.degree)\n",
    "    print('The number of nodes:', G.number_of_nodes())\n",
    "    print('The number of edges:', G.number_of_edges())\n",
    "    \n",
    "    ### Print the image of graph\n",
    "    # nx.draw(G, with_labels = True, edge_color = \"blue\")\n",
    "\n",
    "    ### Export to the image file\n",
    "    # A = to_agraph(G) \n",
    "    # A.layout('dot')  \n",
    "    # A.draw('G2.png')\n",
    "\n",
    "    ### 3. check if the graph contains self-loop or not\n",
    "    print('The number of self-loops:', G.number_of_selfloops())\n",
    "\n",
    "    ### 4. check if there is directed cycle or not\n",
    "    print('Directed cycle:', nx.find_cycle(G, orientation=\"original\"))\n",
    "\n"
   ]
  },
  {
   "cell_type": "code",
   "execution_count": 4,
   "metadata": {},
   "outputs": [],
   "source": [
    "# nx.draw(G)\n",
    "# plt.show()"
   ]
  },
  {
   "cell_type": "code",
   "execution_count": 5,
   "metadata": {},
   "outputs": [],
   "source": [
    "### Modularity\n",
    "\n",
    "C = np.array([[0, 1, 0, 1, 0, 1, 0, 0, 0, 0],\n",
    "\t[1, 0, 1, 1, 1, 0, 0, 0, 0, 0],\n",
    "\t[0, 1, 0, 0, 0, 0, 0, 0, 0, 0],\n",
    "\t[1, 1, 0, 0, 0, 1, 0, 1, 1, 0],\n",
    "\t[0, 1, 0, 0, 0, 0, 0, 0, 1, 1],\n",
    "\t[1, 0, 0, 1, 0, 0, 0, 0, 0, 0],\n",
    "\t[0, 0, 0, 0, 0, 0, 0, 0, 0, 1],\n",
    "\t[0, 0, 0, 1, 0, 0, 0, 0, 0, 0],\n",
    "\t[0, 0, 0, 1, 1, 0, 0, 0, 0, 1],\n",
    "\t[0, 0, 0, 0, 1, 0, 1, 0, 1, 0]])\n",
    "\n",
    "G1_even = nx.Graph()\n",
    "G2_odd = nx.Graph()\n",
    "G = nx.Graph()\n",
    "\n",
    "C_odd = []\n",
    "C_even = []\n",
    "x_axis = int(C.shape[0]/2)\n",
    "# print(type(x_axis))\n",
    "# print(x_axis)\n",
    "y_axis = int(C.shape[1]/2)\n",
    "\n",
    "for i in range(C.shape[0]):\n",
    "    if i%2 == 0:\n",
    "        for j in range(C.shape[1]):\n",
    "            if j%2 == 0:\n",
    "                # np.append(C_even, C[i][j])\n",
    "                C_even.append(C[i][j])\n",
    "                # print(C_even)\n",
    "C_even_mat = np.array([C_even])\n",
    "C_even_mat = C_even_mat.reshape(x_axis, y_axis)\n",
    "\n",
    "for i in range(C.shape[0]):\n",
    "    if i%2 == 1:\n",
    "        for j in range(C.shape[1]):\n",
    "            if j%2 == 1:\n",
    "                C_odd.append(C[i][j])\n",
    "C_odd_mat = np.array([C_odd])\n",
    "C_odd_mat = C_odd_mat.reshape(x_axis, y_axis)\n",
    "\n",
    "# print(C_odd_mat)\n",
    "# print(C_even_mat)\n",
    "\n",
    "\n",
    "G1_even = nx.from_numpy_matrix(C_even_mat)\n",
    "G2_odd = nx.from_numpy_matrix(C_odd_mat)\n",
    "G = nx.from_numpy_matrix(C)\n",
    "\n",
    "\n"
   ]
  },
  {
   "cell_type": "code",
   "execution_count": 6,
   "metadata": {},
   "outputs": [
    {
     "data": {
      "text/plain": [
       "-0.20414201183431957"
      ]
     },
     "execution_count": 6,
     "metadata": {},
     "output_type": "execute_result"
    }
   ],
   "source": [
    "def modularity_partition(A, part):\n",
    "\tm = A.sum()/2\n",
    "\tks = A.sum(axis=0)\n",
    "\treturn ( A[part].T[part].T - ks[part][:,None]*ks[part][None,:]/(2*m) ).sum()/(2*m)\n",
    "\n",
    "def modularity(A, parts):\n",
    "\treturn sum([ modularity_partition(A, p) for p in parts ])\n",
    "\n",
    "modularity(C, [[0,2,4,6,8], [1,3,5,7,9]])"
   ]
  },
  {
   "cell_type": "code",
   "execution_count": 7,
   "metadata": {},
   "outputs": [
    {
     "name": "stderr",
     "output_type": "stream",
     "text": [
      "c:\\Users\\shin\\anaconda3\\envs\\6.86x\\lib\\site-packages\\networkx\\drawing\\nx_pylab.py:563: MatplotlibDeprecationWarning: \n",
      "The iterable function was deprecated in Matplotlib 3.1 and will be removed in 3.3. Use np.iterable instead.\n",
      "  if not cb.iterable(width):\n",
      "c:\\Users\\shin\\anaconda3\\envs\\6.86x\\lib\\site-packages\\networkx\\drawing\\nx_pylab.py:660: MatplotlibDeprecationWarning: \n",
      "The iterable function was deprecated in Matplotlib 3.1 and will be removed in 3.3. Use np.iterable instead.\n",
      "  if cb.iterable(node_size):  # many node sizes\n"
     ]
    },
    {
     "data": {
      "image/png": "[encoded data removed]",
      "text/plain": [
       "<Figure size 432x288 with 1 Axes>"
      ]
     },
     "metadata": {},
     "output_type": "display_data"
    }
   ],
   "source": [
    "G1 = nx.DiGraph()\n",
    "G1_list = [(1, 2), (2, 3), (3, 4), (4, 5), (5, 2)]\n",
    "G1.add_edges_from(G1_list)\n",
    "nx.draw(G1, with_labels = True, node_color = 'blue')\n"
   ]
  },
  {
   "cell_type": "code",
   "execution_count": 8,
   "metadata": {},
   "outputs": [
    {
     "data": {
      "image/png": "[encoded data removed]",
      "text/plain": [
       "<Figure size 432x288 with 1 Axes>"
      ]
     },
     "metadata": {},
     "output_type": "display_data"
    }
   ],
   "source": [
    "G2 = nx.DiGraph()\n",
    "G2_list = [(1, 2), (1, 4), (3, 4), (4, 5), (5, 2)]\n",
    "G2.add_edges_from(G2_list)\n",
    "nx.draw(G2, with_labels = True, node_color = 'blue')\n"
   ]
  },
  {
   "cell_type": "code",
   "execution_count": 9,
   "metadata": {},
   "outputs": [],
   "source": [
    "G4 = nx.MultiGraph()\n",
    "G4_list = [(1, 2), (1, 4), (3, 4), (4, 5), (5, 2), (3, 3)]\n",
    "G4.add_edges_from(G4_list)\n",
    "\n",
    "# nx.draw(G4, with_labels = True, node_color = 'blue')\n",
    "# nx.drawing.nx_agraph.write_dot(G4,'graph.dot')\n",
    "\n",
    "A = to_agraph(G4) \n",
    "A.layout('dot')  \n",
    "A.draw('G4.png')\n"
   ]
  },
  {
   "cell_type": "code",
   "execution_count": 10,
   "metadata": {},
   "outputs": [
    {
     "name": "stderr",
     "output_type": "stream",
     "text": [
      "c:\\Users\\shin\\anaconda3\\envs\\6.86x\\lib\\site-packages\\networkx\\drawing\\nx_pylab.py:611: MatplotlibDeprecationWarning: \n",
      "The is_numlike function was deprecated in Matplotlib 3.0 and will be removed in 3.2. Use isinstance(..., numbers.Number) instead.\n",
      "  if cb.is_numlike(alpha):\n"
     ]
    },
    {
     "data": {
      "image/png": "[encoded data removed]",
      "text/plain": [
       "<Figure size 432x288 with 1 Axes>"
      ]
     },
     "metadata": {},
     "output_type": "display_data"
    }
   ],
   "source": [
    "G5 = nx.MultiGraph()\n",
    "G5_list = [(1, 2), (1, 4), (3, 1), (4, 5)]\n",
    "G5.add_edges_from(G5_list)\n",
    "\n",
    "# nx.draw(G4, with_labels = True, node_color = 'blue')\n",
    "# nx.drawing.nx_agraph.write_dot(G4,'graph.dot')\n",
    "\n",
    "nx.draw(G5, with_labels = True, node_color = 'blue')\n",
    "\n",
    "# A = to_agraph(G4) \n",
    "# A.layout('dot')  \n",
    "# A.draw('multi.png')\n"
   ]
  },
  {
   "cell_type": "code",
   "execution_count": null,
   "metadata": {},
   "outputs": [],
   "source": []
  }
 ],
 "metadata": {
  "kernelspec": {
   "display_name": "Python 3.6.13 ('6.86x')",
   "language": "python",
   "name": "python3"
  },
  "language_info": {
   "codemirror_mode": {
    "name": "ipython",
    "version": 3
   },
   "file_extension": ".py",
   "mimetype": "text/x-python",
   "name": "python",
   "nbconvert_exporter": "python",
   "pygments_lexer": "ipython3",
   "version": "3.6.13"
  },
  "orig_nbformat": 4,
  "vscode": {
   "interpreter": {
    "hash": "c4cd6255e7d506af5b310c9db8e5590bb7e9ff47ad141b2fd33807f877700131"
   }
  }
 },
 "nbformat": 4,
 "nbformat_minor": 2
}
