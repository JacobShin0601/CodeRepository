{
 "cells": [
  {
   "cell_type": "code",
   "execution_count": 46,
   "metadata": {},
   "outputs": [],
   "source": [
    "import networkx as nx\n",
    "import numpy as np\n",
    "from scipy.sparse import csr_matrix\n",
    "from scipy.sparse.csgraph import connected_components\n",
    "import csv\n",
    "import matplotlib.pyplot as plt\n",
    "import networkx.algorithms.community as nx_comm"
   ]
  },
  {
   "cell_type": "code",
   "execution_count": 2,
   "metadata": {},
   "outputs": [
    {
     "name": "stdout",
     "output_type": "stream",
     "text": [
      "1\n",
      "[0 0 0 0 0 0 0 0 0 0]\n",
      "[(0, 3), (1, 4), (2, 1), (3, 5), (4, 3), (5, 2), (6, 1), (7, 1), (8, 3), (9, 3)]\n"
     ]
    }
   ],
   "source": [
    "B = np.array([[0, 1, 0, 1, 0, 1, 0, 0, 0, 0],\n",
    "\t[1, 0, 1, 1, 1, 0, 0, 0, 0, 0],\n",
    "\t[0, 1, 0, 0, 0, 0, 0, 0, 0, 0],\n",
    "\t[1, 1, 0, 0, 0, 1, 0, 1, 1, 0],\n",
    "\t[0, 1, 0, 0, 0, 0, 0, 0, 1, 1],\n",
    "\t[1, 0, 0, 1, 0, 0, 0, 0, 0, 0],\n",
    "\t[0, 0, 0, 0, 0, 0, 0, 0, 0, 1],\n",
    "\t[0, 0, 0, 1, 0, 0, 0, 0, 0, 0],\n",
    "\t[0, 0, 0, 1, 1, 0, 0, 0, 0, 1],\n",
    "\t[0, 0, 0, 0, 1, 0, 1, 0, 1, 0]])\n",
    "\n",
    "graph = csr_matrix(B)\n",
    "#print(B)\n",
    "\n",
    "n_components, labels = connected_components(csgraph=graph, directed=False, return_labels=True)\n",
    "print(n_components)\n",
    "print(labels)\n",
    "\n",
    "G = nx.from_numpy_matrix(B)\n",
    "# degree = nx.laplacian_matrix(G).toarray()\n",
    "print(G.degree)\n"
   ]
  },
  {
   "cell_type": "code",
   "execution_count": 3,
   "metadata": {},
   "outputs": [
    {
     "name": "stdout",
     "output_type": "stream",
     "text": [
      "It's done with 4 iterations.\n"
     ]
    }
   ],
   "source": [
    "B = np.array([[0, 1, 0, 1, 0, 1, 0, 0, 0, 0],\n",
    "\t[1, 0, 1, 1, 1, 0, 0, 0, 0, 0],\n",
    "\t[0, 1, 0, 0, 0, 0, 0, 0, 0, 0],\n",
    "\t[1, 1, 0, 0, 0, 1, 0, 1, 1, 0],\n",
    "\t[0, 1, 0, 0, 0, 0, 0, 0, 1, 1],\n",
    "\t[1, 0, 0, 1, 0, 0, 0, 0, 0, 0],\n",
    "\t[0, 0, 0, 0, 0, 0, 0, 0, 0, 1],\n",
    "\t[0, 0, 0, 1, 0, 0, 0, 0, 0, 0],\n",
    "\t[0, 0, 0, 1, 1, 0, 0, 0, 0, 1],\n",
    "\t[0, 0, 0, 0, 1, 0, 1, 0, 1, 0]])\n",
    "\n",
    "new_B = B@B\n",
    "\n",
    "for i in range(3, 1000):\n",
    "    new_B = new_B@B\n",
    "    # print('iteration:'+str(i))\n",
    "    is_all_non_zero = np.all((new_B != 0))\n",
    "\n",
    "    if is_all_non_zero:\n",
    "        print('It\\'s done with {} iterations.'.format(i))\n",
    "        break\n",
    "    # else:\n",
    "        # print('There are zero(s) in the matrix.')\n"
   ]
  },
  {
   "cell_type": "code",
   "execution_count": 4,
   "metadata": {},
   "outputs": [
    {
     "name": "stdout",
     "output_type": "stream",
     "text": [
      "[[46 59 14 62 30 40  5 21 38 25]\n",
      " [59 36 28 88 57 28 10 14 30 27]\n",
      " [14 28  2 14  6 17  2 10 19 10]\n",
      " [62 88 14 58 33 58 11 37 68 30]\n",
      " [30 57  6 33 24 32  9 20 47 32]\n",
      " [40 28 17 58 32 22  4 11 19 16]\n",
      " [ 5 10  2 11  9  4  2  2  9 13]\n",
      " [21 14 10 37 20 11  2  4  8 11]\n",
      " [38 30 19 68 47 19  9  8 26 33]\n",
      " [25 27 10 30 32 16 13 11 33 20]]\n"
     ]
    }
   ],
   "source": [
    "B = np.array([[0, 1, 0, 1, 0, 1, 0, 0, 0, 0],\n",
    "\t[1, 0, 1, 1, 1, 0, 0, 0, 0, 0],\n",
    "\t[0, 1, 0, 0, 0, 0, 0, 0, 0, 0],\n",
    "\t[1, 1, 0, 0, 0, 1, 0, 1, 1, 0],\n",
    "\t[0, 1, 0, 0, 0, 0, 0, 0, 1, 1],\n",
    "\t[1, 0, 0, 1, 0, 0, 0, 0, 0, 0],\n",
    "\t[0, 0, 0, 0, 0, 0, 0, 0, 0, 1],\n",
    "\t[0, 0, 0, 1, 0, 0, 0, 0, 0, 0],\n",
    "\t[0, 0, 0, 1, 1, 0, 0, 0, 0, 1],\n",
    "\t[0, 0, 0, 0, 1, 0, 1, 0, 1, 0]])\n",
    "\n",
    "print(B@B@B@B@B)"
   ]
  },
  {
   "cell_type": "code",
   "execution_count": 8,
   "metadata": {},
   "outputs": [
    {
     "name": "stdout",
     "output_type": "stream",
     "text": [
      "[(0.0, 23), (3.0, 21), (10.0, 18), (12.0, 23), (25.0, 22), (39.0, 24), (50.0, 22), (74.0, 22), (76.0, 25), (84.0, 24), (87.0, 22), (89.0, 23), (96.0, 19), (1.0, 21), (4.0, 20), (13.0, 25), (29.0, 26), (31.0, 15), (33.0, 19), (35.0, 23), (82.0, 20), (2.0, 18), (38.0, 16), (42.0, 26), (44.0, 17), (49.0, 24), (66.0, 18), (73.0, 21), (75.0, 16), (93.0, 22), (17.0, 28), (24.0, 19), (30.0, 24), (53.0, 21), (71.0, 21), (94.0, 18), (21.0, 22), (37.0, 21), (46.0, 17), (58.0, 14), (60.0, 18), (79.0, 23), (81.0, 29), (97.0, 26), (5.0, 13), (6.0, 14), (62.0, 17), (80.0, 18), (7.0, 18), (41.0, 22), (51.0, 16), (77.0, 23), (88.0, 20), (8.0, 19), (34.0, 15), (59.0, 21), (61.0, 19), (63.0, 28), (67.0, 18), (9.0, 22), (27.0, 17), (45.0, 28), (48.0, 18), (52.0, 23), (65.0, 23), (86.0, 24), (83.0, 28), (99.0, 22), (11.0, 31), (19.0, 27), (36.0, 28), (54.0, 9), (56.0, 19), (90.0, 18), (98.0, 23), (28.0, 19), (26.0, 25), (40.0, 22), (14.0, 19), (20.0, 20), (55.0, 13), (57.0, 31), (70.0, 20), (78.0, 15), (91.0, 21), (92.0, 20), (95.0, 22), (15.0, 17), (16.0, 16), (18.0, 22), (32.0, 15), (23.0, 16), (85.0, 23), (69.0, 24), (22.0, 16), (64.0, 25), (72.0, 12), (47.0, 17), (43.0, 19), (68.0, 14)]\n",
      "100\n",
      "1030\n"
     ]
    }
   ],
   "source": [
    "with open('release_directed_graph.txt', 'rb') as file:\n",
    "    G = nx.DiGraph()\n",
    "    graph_array = np.loadtxt(file)\n",
    "    #print(graph_array)\n",
    "    for i in range(graph_array.shape[0]):\n",
    "        G.add_edge(graph_array[i][0], graph_array[i][1])\n",
    "    \n",
    "    print(G.degree)\n",
    "    print(G.number_of_nodes())\n",
    "    print(G.number_of_edges())\n",
    "    # for row in graph_array: \n",
    "    #     edges = []\n",
    "    #     a, b = row.strip().split()\n",
    "    #     #print(a, b)\n",
    "    #     int_a = int.from_bytes(a, byteorder='little')\n",
    "    #     int_b = int.from_bytes(b, byteorder='big')\n",
    "    #     edges.append(int_a)\n",
    "    #     edges.append(int_b)\n",
    "    #     print(edges)\n",
    "\n",
    "    #     G.add_nodes_from(row)\n",
    "    # print(G.degree)\n",
    "    # print(G.number_of_nodes())\n",
    "    # # print(G.number_of_edges())\n",
    "    # G_edges = G.edges()\n",
    "    # # print(len(G_edges))\n",
    "\n"
   ]
  },
  {
   "cell_type": "code",
   "execution_count": 12,
   "metadata": {},
   "outputs": [],
   "source": [
    "# nx.draw(G)\n",
    "# plt.show()"
   ]
  },
  {
   "cell_type": "code",
   "execution_count": 52,
   "metadata": {},
   "outputs": [],
   "source": [
    "### Modularity\n",
    "\n",
    "C = np.array([[0, 1, 0, 1, 0, 1, 0, 0, 0, 0],\n",
    "\t[1, 0, 1, 1, 1, 0, 0, 0, 0, 0],\n",
    "\t[0, 1, 0, 0, 0, 0, 0, 0, 0, 0],\n",
    "\t[1, 1, 0, 0, 0, 1, 0, 1, 1, 0],\n",
    "\t[0, 1, 0, 0, 0, 0, 0, 0, 1, 1],\n",
    "\t[1, 0, 0, 1, 0, 0, 0, 0, 0, 0],\n",
    "\t[0, 0, 0, 0, 0, 0, 0, 0, 0, 1],\n",
    "\t[0, 0, 0, 1, 0, 0, 0, 0, 0, 0],\n",
    "\t[0, 0, 0, 1, 1, 0, 0, 0, 0, 1],\n",
    "\t[0, 0, 0, 0, 1, 0, 1, 0, 1, 0]])\n",
    "\n",
    "G1_even = nx.Graph()\n",
    "G2_odd = nx.Graph()\n",
    "G = nx.Graph()\n",
    "\n",
    "C_odd = []\n",
    "C_even = []\n",
    "x_axis = int(C.shape[0]/2)\n",
    "# print(type(x_axis))\n",
    "# print(x_axis)\n",
    "y_axis = int(C.shape[1]/2)\n",
    "\n",
    "for i in range(C.shape[0]):\n",
    "    if i%2 == 0:\n",
    "        for j in range(C.shape[1]):\n",
    "            if j%2 == 0:\n",
    "                # np.append(C_even, C[i][j])\n",
    "                C_even.append(C[i][j])\n",
    "                # print(C_even)\n",
    "C_even_mat = np.array([C_even])\n",
    "C_even_mat = C_even_mat.reshape(x_axis, y_axis)\n",
    "\n",
    "for i in range(C.shape[0]):\n",
    "    if i%2 == 1:\n",
    "        for j in range(C.shape[1]):\n",
    "            if j%2 == 1:\n",
    "                C_odd.append(C[i][j])\n",
    "C_odd_mat = np.array([C_odd])\n",
    "C_odd_mat = C_odd_mat.reshape(x_axis, y_axis)\n",
    "\n",
    "# print(C_odd_mat)\n",
    "# print(C_even_mat)\n",
    "\n",
    "\n",
    "G1_even = nx.from_numpy_matrix(C_even_mat)\n",
    "G2_odd = nx.from_numpy_matrix(C_odd_mat)\n",
    "G = nx.from_numpy_matrix(C)\n",
    "\n",
    "\n"
   ]
  },
  {
   "cell_type": "code",
   "execution_count": 61,
   "metadata": {},
   "outputs": [
    {
     "data": {
      "text/plain": [
       "-0.20414201183431957"
      ]
     },
     "execution_count": 61,
     "metadata": {},
     "output_type": "execute_result"
    }
   ],
   "source": [
    "def modularity_partition(A, part):\n",
    "\tm = A.sum()/2\n",
    "\tks = A.sum(axis=0)\n",
    "\treturn ( A[part].T[part].T - ks[part][:,None]*ks[part][None,:]/(2*m) ).sum()/(2*m)\n",
    "\n",
    "def modularity(A, parts):\n",
    "\treturn sum([ modularity_partition(A, p) for p in parts ])\n",
    "\n",
    "modularity(C, [[0,2,4,6,8], [1,3,5,7,9]])"
   ]
  }
 ],
 "metadata": {
  "kernelspec": {
   "display_name": "Python 3.6.13 ('6.86x')",
   "language": "python",
   "name": "python3"
  },
  "language_info": {
   "codemirror_mode": {
    "name": "ipython",
    "version": 3
   },
   "file_extension": ".py",
   "mimetype": "text/x-python",
   "name": "python",
   "nbconvert_exporter": "python",
   "pygments_lexer": "ipython3",
   "version": "3.6.13"
  },
  "orig_nbformat": 4,
  "vscode": {
   "interpreter": {
    "hash": "9b1ceda625d8b52644e2bb922a597b4e19cdaeb71f5a1871c834a12a8e9f86bf"
   }
  }
 },
 "nbformat": 4,
 "nbformat_minor": 2
}
