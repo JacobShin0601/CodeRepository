{
 "cells": [
  {
   "cell_type": "code",
   "execution_count": 11,
   "metadata": {
    "id": "pQfcfzJakM5S"
   },
   "outputs": [],
   "source": [
    "import zipfile\n",
    "import numpy as np\n",
    "import numpy.lib.recfunctions\n",
    "import matplotlib.pyplot as plt"
   ]
  },
  {
   "cell_type": "code",
   "execution_count": 12,
   "metadata": {},
   "outputs": [
    {
     "name": "stdout",
     "output_type": "stream",
     "text": [
      "[[1 2]]\n"
     ]
    }
   ],
   "source": [
    "x = np.array([(1, 2)], dtype=[('a', np.int8), ('b', np.int8)])\n",
    "\n",
    "y = x.view(dtype=np.int8, type=np.matrix)\n",
    "print(y)"
   ]
  },
  {
   "cell_type": "code",
   "execution_count": 22,
   "metadata": {},
   "outputs": [
    {
     "name": "stdout",
     "output_type": "stream",
     "text": [
      "3051\n",
      "('f0', 'V1', 'V2', 'V3', 'V4', 'V5', 'V6', 'V7', 'V8', 'V9', 'V10', 'V11', 'V12', 'V13', 'V14', 'V15', 'V16', 'V17', 'V18', 'V19', 'V20', 'V21', 'V22', 'V23', 'V24', 'V25', 'V26', 'V27', 'V28', 'V29', 'V30', 'V31', 'V32', 'V33', 'V34', 'V35', 'V36', 'V37', 'V38')\n",
      "[(1.000e+00, -1.45769, -1.3942 , -1.42779, -1.40715, -1.42668, -1.21719, -1.37386, -1.36832, -1.47649, -1.21583, -1.28137, -1.03209, -1.36149, -1.39979,  0.17628, -1.40095, -1.56783, -1.20466, -1.24482, -1.60767, -1.06221, -1.12665, -1.20963, -1.48332, -1.25268, -1.27619, -1.23051, -1.43337, -1.08902, -1.29865, -1.26183, -1.44434,  1.10147, -1.34158, -1.22961, -0.75919,  0.84905, -0.66465)\n",
      " (2.000e+00, -0.75161, -1.26278, -0.09052, -0.99596, -1.24245, -0.69242, -1.37386, -0.50803, -1.04533, -0.81257, -1.28137, -1.03209, -0.74005, -0.83161,  0.412  , -1.27669, -0.7437 , -1.20466, -1.0238 , -0.38779, -1.06221, -1.12665, -1.20963, -1.12185, -0.65264, -1.27619, -1.23051, -1.18065, -1.08902, -1.05094, -1.26183, -1.25918,  0.97813, -0.79357, -1.22961, -0.71792,  0.45127, -0.45804)\n",
      " (3.000e+00,  0.45695, -0.09654,  0.90325, -0.07194,  0.03232,  0.09713, -0.11978,  0.23381,  0.23987,  0.44201, -0.3956 , -0.62533,  0.45181,  1.09519,  1.09318,  0.343  ,  0.2001 ,  0.38992,  0.00641,  1.10932,  0.21952, -0.72267,  0.5169 ,  0.28577,  0.61937,  0.20085,  0.29278,  0.26624, -0.43377, -0.10823, -0.29385,  0.05067,  1.6943 , -0.12472,  0.04609,  0.24347,  0.90774,  0.46509)\n",
      " ...\n",
      " (3.049e+03,  0.45231,  0.42686,  0.67579,  0.31524, -0.57779,  0.51322,  0.89885,  1.26549,  0.24663,  0.38565,  0.44349,  0.00557,  0.35337, -0.05047, -0.80606,  0.49199,  0.82856,  0.5764 ,  0.36443,  0.55919, -0.38991,  1.07012,  0.55371,  0.26707,  0.91343,  0.68704,  0.43196,  0.65067, -0.13281,  0.35006,  0.32333,  0.75559,  1.22578,  0.59945,  0.72956,  0.72762,  1.10466,  1.1699 )\n",
      " (3.050e+03, -0.3592 , -0.43633,  0.34031, -0.9093 , -0.36663, -0.07845,  0.09493, -0.00563, -0.32967, -0.03974, -0.61829, -1.03209, -0.38459, -0.48585, -1.39503,  0.01483,  0.46683, -0.51358, -1.24482, -0.8462 , -0.95002,  0.20204, -0.03522, -0.20401, -1.25268, -0.22244,  0.57291, -0.49941, -1.08902, -0.62199, -0.11319, -0.51073, -0.68539,  0.23005, -0.17911, -0.37737, -0.39063,  0.33975)\n",
      " (3.051e+03, -0.86079, -1.3942 , -0.73766, -1.19031, -1.42668, -0.60682, -0.15456,  0.505  , -0.71766, -0.72218, -1.14699, -1.03209, -1.36149, -0.94854, -1.26413, -0.5473 , -0.16395, -0.97455, -0.09435, -0.22835, -1.06221, -0.18312, -0.34924, -0.81902,  0.68359, -0.93305, -0.53991,  0.28711,  1.90481, -0.2165 , -1.00666, -0.46769,  0.30259, -0.23523,  1.4369 , -0.65113,  1.62964,  1.60048)]\n"
     ]
    },
    {
     "name": "stderr",
     "output_type": "stream",
     "text": [
      "/Users/jacob/opt/anaconda3/envs/6.86x/lib/python3.6/site-packages/ipykernel_launcher.py:6: FutureWarning: Numpy has detected that you may be viewing or writing to an array returned by selecting multiple fields in a structured array. \n",
      "\n",
      "This code may break in numpy 1.15 because this will return a view instead of a copy -- see release notes for details.\n",
      "  \n"
     ]
    }
   ],
   "source": [
    "with zipfile.ZipFile(\"statsreview_release1.zip\") as zip_file:\n",
    "    #golub_data, golub_classnames = ( np.genfromtxt(zip_file.open(\"data_and_materials/golub_data/{}\".format(fname)), delimiter=',', converters={0: lambda s: int(s.strip(b'\"'))}) for fname in ['golub.csv', 'golub_cl.csv'] )\n",
    "    golub_data, golub_classnames = ( np.genfromtxt(zip_file.open('data_and_materials/golub_data/{}'.format(fname)), delimiter=',', names=True, converters={0: lambda s: int(s.strip(b'\"'))}) for fname in ['golub.csv', 'golub_cl.csv'] )                                  \n",
    "    \n",
    "    ALL_names, AML_names = ( [ 'V{}'.format(int(v)) for v in golub_classnames[golub_classnames['x'] == c][golub_classnames.dtype.names[0]] ] for c in [0, 1] )\n",
    "    ALL_genes, AML_genes, ALLAML_genes = ( numpy.lib.recfunctions.repack_fields(golub_data[names]).view((golub_data[names].dtype[0], len(names))) for names in [ALL_names, AML_names, ALL_names + AML_names] )\n",
    "    ALL_N, AML_N, ALLAML_N = ( a.shape[1] for a in [ALL_genes, AML_genes, ALLAML_genes] )    \n",
    "\n",
    "print(ALL_genes.shape[0])\n",
    "    \n",
    "#print(numpy.lib.recfunctions.repack_fields(golub_data[ALL_names]).view((golub_data[ALL_names].dtype[0], len(ALL_names))))\n",
    "#print(ALL_genes)\n",
    "print(golub_data.dtype.names)\n",
    "print(golub_data)\n",
    "#print(numpy.lib.recfunctions.repack_fields(golub_data[names]).view())\n",
    "#print(ALL_names)\n",
    "\n",
    "# print(golub_classnames.dtype.names)\n",
    "# print(golub_classnames)\n",
    "# print(golub_classnames.dtype.names[0])\n",
    "# print(golub_classnames['x'])\n",
    "# print(golub_classnames[golub_classnames['x'] == 1])\n",
    "# print(golub_classnames[golub_classnames['x'] == 1][golub_classnames.dtype.names[0]])"
   ]
  },
  {
   "cell_type": "code",
   "execution_count": 33,
   "metadata": {},
   "outputs": [
    {
     "name": "stderr",
     "output_type": "stream",
     "text": [
      "/Users/jacob/opt/anaconda3/envs/6.86x/lib/python3.6/site-packages/ipykernel_launcher.py:1: FutureWarning: Numpy has detected that you may be viewing or writing to an array returned by selecting multiple fields in a structured array. \n",
      "\n",
      "This code may break in numpy 1.15 because this will return a view instead of a copy -- see release notes for details.\n",
      "  \"\"\"Entry point for launching an IPython kernel.\n"
     ]
    },
    {
     "ename": "ValueError",
     "evalue": "Changing the dtype to a subarray type is only supported if the total itemsize is unchanged",
     "output_type": "error",
     "traceback": [
      "\u001b[0;31m---------------------------------------------------------------------------\u001b[0m",
      "\u001b[0;31mValueError\u001b[0m                                Traceback (most recent call last)",
      "\u001b[0;32m<ipython-input-33-afc13310ebd7>\u001b[0m in \u001b[0;36m<module>\u001b[0;34m\u001b[0m\n\u001b[0;32m----> 1\u001b[0;31m \u001b[0mnumpy\u001b[0m\u001b[0;34m.\u001b[0m\u001b[0mlib\u001b[0m\u001b[0;34m.\u001b[0m\u001b[0mrecfunctions\u001b[0m\u001b[0;34m.\u001b[0m\u001b[0mrepack_fields\u001b[0m\u001b[0;34m(\u001b[0m\u001b[0mgolub_data\u001b[0m\u001b[0;34m[\u001b[0m\u001b[0mALL_names\u001b[0m\u001b[0;34m]\u001b[0m\u001b[0;34m)\u001b[0m\u001b[0;34m.\u001b[0m\u001b[0mview\u001b[0m\u001b[0;34m(\u001b[0m\u001b[0;34m(\u001b[0m\u001b[0mgolub_data\u001b[0m\u001b[0;34m[\u001b[0m\u001b[0mALL_names\u001b[0m\u001b[0;34m]\u001b[0m\u001b[0;34m.\u001b[0m\u001b[0mdtype\u001b[0m\u001b[0;34m[\u001b[0m\u001b[0;36m0\u001b[0m\u001b[0;34m]\u001b[0m\u001b[0;34m,\u001b[0m \u001b[0;36m3\u001b[0m\u001b[0;34m)\u001b[0m\u001b[0;34m)\u001b[0m\u001b[0;34m\u001b[0m\u001b[0;34m\u001b[0m\u001b[0m\n\u001b[0m",
      "\u001b[0;31mValueError\u001b[0m: Changing the dtype to a subarray type is only supported if the total itemsize is unchanged"
     ]
    }
   ],
   "source": [
    "numpy.lib.recfunctions.repack_fields(golub_data[ALL_names]).view((golub_data[ALL_names].dtype[0], len(ALL_names)))"
   ]
  },
  {
   "cell_type": "code",
   "execution_count": 24,
   "metadata": {},
   "outputs": [
    {
     "name": "stdout",
     "output_type": "stream",
     "text": [
      "[(-1.45769, -1.3942 , -1.42779, -1.40715, -1.42668, -1.21719, -1.37386, -1.36832, -1.47649, -1.21583, -1.28137, -1.03209, -1.36149, -1.39979,  0.17628, -1.40095, -1.56783, -1.20466, -1.24482, -1.60767, -1.06221, -1.12665, -1.20963, -1.48332, -1.25268, -1.27619, -1.23051)\n",
      " (-0.75161, -1.26278, -0.09052, -0.99596, -1.24245, -0.69242, -1.37386, -0.50803, -1.04533, -0.81257, -1.28137, -1.03209, -0.74005, -0.83161,  0.412  , -1.27669, -0.7437 , -1.20466, -1.0238 , -0.38779, -1.06221, -1.12665, -1.20963, -1.12185, -0.65264, -1.27619, -1.23051)\n",
      " ( 0.45695, -0.09654,  0.90325, -0.07194,  0.03232,  0.09713, -0.11978,  0.23381,  0.23987,  0.44201, -0.3956 , -0.62533,  0.45181,  1.09519,  1.09318,  0.343  ,  0.2001 ,  0.38992,  0.00641,  1.10932,  0.21952, -0.72267,  0.5169 ,  0.28577,  0.61937,  0.20085,  0.29278)\n",
      " ...\n",
      " ( 0.45231,  0.42686,  0.67579,  0.31524, -0.57779,  0.51322,  0.89885,  1.26549,  0.24663,  0.38565,  0.44349,  0.00557,  0.35337, -0.05047, -0.80606,  0.49199,  0.82856,  0.5764 ,  0.36443,  0.55919, -0.38991,  1.07012,  0.55371,  0.26707,  0.91343,  0.68704,  0.43196)\n",
      " (-0.3592 , -0.43633,  0.34031, -0.9093 , -0.36663, -0.07845,  0.09493, -0.00563, -0.32967, -0.03974, -0.61829, -1.03209, -0.38459, -0.48585, -1.39503,  0.01483,  0.46683, -0.51358, -1.24482, -0.8462 , -0.95002,  0.20204, -0.03522, -0.20401, -1.25268, -0.22244,  0.57291)\n",
      " (-0.86079, -1.3942 , -0.73766, -1.19031, -1.42668, -0.60682, -0.15456,  0.505  , -0.71766, -0.72218, -1.14699, -1.03209, -1.36149, -0.94854, -1.26413, -0.5473 , -0.16395, -0.97455, -0.09435, -0.22835, -1.06221, -0.18312, -0.34924, -0.81902,  0.68359, -0.93305, -0.53991)]\n"
     ]
    }
   ],
   "source": [
    "print(golub_data[ALL_names])"
   ]
  },
  {
   "cell_type": "code",
   "execution_count": 14,
   "metadata": {},
   "outputs": [
    {
     "name": "stderr",
     "output_type": "stream",
     "text": [
      "/Users/jacob/opt/anaconda3/envs/6.86x/lib/python3.6/site-packages/ipykernel_launcher.py:6: FutureWarning: Numpy has detected that you may be viewing or writing to an array returned by selecting multiple fields in a structured array. \n",
      "\n",
      "This code may break in numpy 1.15 because this will return a view instead of a copy -- see release notes for details.\n",
      "  \n"
     ]
    }
   ],
   "source": [
    "# Load data\n",
    "with zipfile.ZipFile(\"statsreview_release1.zip\") as zip_file:\n",
    "  golub_data, golub_classnames = ( np.genfromtxt(zip_file.open('data_and_materials/golub_data/{}'.format(fname)), delimiter=',', names=True, converters={0: lambda s: int(s.strip(b'\"'))}) for fname in ['golub.csv', 'golub_cl.csv'] )\n",
    "\n",
    "  ALL_names, AML_names = ( [ 'V{}'.format(int(v)) for v in golub_classnames[golub_classnames['x'] == c][golub_classnames.dtype.names[0]] ] for c in [0, 1] )\n",
    "  ALL_genes, AML_genes, ALLAML_genes = ( numpy.lib.recfunctions.repack_fields(golub_data[names]).view((golub_data[names].dtype[0], len(names))) for names in [ALL_names, AML_names, ALL_names + AML_names] )\n",
    "  ALL_N, AML_N, ALLAML_N = ( a.shape[1] for a in [ALL_genes, AML_genes, ALLAML_genes] )\n",
    "  N_genes = ALLAML_genes.shape[0]"
   ]
  },
  {
   "cell_type": "code",
   "execution_count": 15,
   "metadata": {},
   "outputs": [
    {
     "name": "stdout",
     "output_type": "stream",
     "text": [
      "[-1.75919522 -0.90985764  0.09802592 ... -1.84252929 -0.10468791\n",
      " -3.29258255]\n"
     ]
    }
   ],
   "source": [
    "print((ALL_genes.mean(axis=1) - AML_genes.mean(axis=1))/np.sqrt(ALL_genes.var(axis=1, ddof=1)/ALL_N + AML_genes.var(axis=1, ddof=1)/AML_N))"
   ]
  },
  {
   "cell_type": "markdown",
   "metadata": {
    "id": "eQeAlgZKM1iy"
   },
   "source": [
    "Uncorrected p-values"
   ]
  },
  {
   "cell_type": "code",
   "execution_count": 16,
   "metadata": {
    "colab": {
     "base_uri": "https://localhost:8080/"
    },
    "id": "C5H-Zy9pPvGQ",
    "outputId": "f7fefa79-1189-4799-97ab-b3bfc1ba503a"
   },
   "outputs": [
    {
     "data": {
      "text/plain": [
       "1078"
      ]
     },
     "execution_count": 16,
     "metadata": {},
     "output_type": "execute_result"
    }
   ],
   "source": [
    "import scipy.stats\n",
    "# Calculate the Welch's t-test statistic\n",
    "test_statistic = (ALL_genes.mean(axis=1) - AML_genes.mean(axis=1))/np.sqrt(ALL_genes.var(axis=1, ddof=1)/ALL_N + AML_genes.var(axis=1, ddof=1)/AML_N)\n",
    "# Find the number of degrees of freedom of the statistic according to the approximation formula\n",
    "test_dof = (ALL_genes.var(axis=1, ddof=1)/ALL_N + AML_genes.var(axis=1, ddof=1)/AML_N)**2 / ( (ALL_genes.var(axis=1, ddof=1)/ALL_N)**2/(ALL_N-1) + (AML_genes.var(axis=1, ddof=1)/AML_N)**2/(AML_N-1))\n",
    "# Find the 2-sided p-values\n",
    "p_values = scipy.stats.t.sf(np.abs(test_statistic), test_dof)*2\n",
    "# Count how many of these p-values are below the significance threshold\n",
    "(p_values < 0.05).sum()"
   ]
  },
  {
   "cell_type": "code",
   "execution_count": 17,
   "metadata": {},
   "outputs": [
    {
     "name": "stdout",
     "output_type": "stream",
     "text": [
      "3051\n",
      "[3051 3050 3049 ...    3    2    1]\n"
     ]
    }
   ],
   "source": [
    "p_values_sorted = np.sort(p_values)\n",
    "print(N_genes)\n",
    "print((np.arange(N_genes)+1)[::-1])"
   ]
  },
  {
   "cell_type": "markdown",
   "metadata": {
    "id": "c0TpFYqhM5ik"
   },
   "source": [
    "Holm Bonferroni correction"
   ]
  },
  {
   "cell_type": "code",
   "execution_count": 18,
   "metadata": {
    "colab": {
     "base_uri": "https://localhost:8080/"
    },
    "id": "sin6H1svb0oL",
    "outputId": "7fd22cf8-ed92-4ba2-ab1f-ade0697bcd95"
   },
   "outputs": [
    {
     "name": "stdout",
     "output_type": "stream",
     "text": [
      "[103]\n"
     ]
    }
   ],
   "source": [
    "# Sort the p-values in ascending order\n",
    "p_values_sorted = np.sort(p_values)\n",
    "# These are the adjusted significance thresholds as an array.\n",
    "# Each element is the threshold for the corresponding p-value in p_values_sorted\n",
    "# Note that (np.arange(N_genes)+1)[::-1] gives an array with [N_genes, N_genes-1, N_genes-2, ..., 1]\n",
    "# The [::-1] reverses the array.\n",
    "holm_bonferroni_thresholds = 0.05/(np.arange(N_genes)+1)[::-1]\n",
    "# First we compare the p-values to the associated thresholds. We then get an array\n",
    "# where the p-values that exceed the threhold have a value of False.\n",
    "holm_bonferroni_significant = p_values_sorted < holm_bonferroni_thresholds\n",
    "# We want to find the first value of False in this array (first p-value that exceeds the threshold)\n",
    "# so we invert it using logical_not.\n",
    "holm_bonferroni_not_significant = np.logical_not(holm_bonferroni_significant)\n",
    "# argwhere will return an array of indices for values of True in the supplied array.\n",
    "# Taking the first element of this array gives the first value of True in holm_bonferroni_not_significant\n",
    "# which is the same as the first value of False in holm_bonferroni_significant\n",
    "holm_bonferroni_first_not_significant = np.argwhere(holm_bonferroni_not_significant)[0]\n",
    "# We reject all hypothesis before the first p-value that exceeds the significance threshold.\n",
    "# The number of these rejections is exactly equal to the index of the first value that\n",
    "# exceeds the threshold.\n",
    "num_holm_bonferroni_rejections = holm_bonferroni_first_not_significant\n",
    "print(num_holm_bonferroni_rejections)"
   ]
  },
  {
   "cell_type": "markdown",
   "metadata": {
    "id": "qXZParlHM8p2"
   },
   "source": [
    "Benjamini Hochberg"
   ]
  },
  {
   "cell_type": "code",
   "execution_count": 19,
   "metadata": {
    "colab": {
     "base_uri": "https://localhost:8080/"
    },
    "id": "7pm7uBjYv40m",
    "outputId": "7e312669-cfdf-44bf-ad81-b4f727eb691e"
   },
   "outputs": [
    {
     "name": "stdout",
     "output_type": "stream",
     "text": [
      "[695]\n"
     ]
    }
   ],
   "source": [
    "# These are the adjusted significance thresholds as an array.\n",
    "benjamini_hochberg_thresholds = 0.05*(np.arange(N_genes)+1)/N_genes\n",
    "# First we compare the p-values to the associated thresholds.\n",
    "benjamini_hochberg_significant = p_values_sorted < benjamini_hochberg_thresholds\n",
    "# We are intested in the last p-value which is significant.\n",
    "# Remeber that argwhere returns an array of indicies for the True values, so\n",
    "# we take the last element in order to get the index of the last p-value which\n",
    "# is significant.\n",
    "benjamini_hochberg_last_significant = np.argwhere(p_values_sorted < benjamini_hochberg_thresholds)[-1]\n",
    "# We reject all hypotheses before the last significant p-value, AND we reject\n",
    "# the hypothesis for the last significant p-value as well. So the number of rejected\n",
    "# hypotheses is equal to the index of the last significant p-value PLUS one.\n",
    "num_benjamini_hochberg_rejections = benjamini_hochberg_last_significant + 1\n",
    "print(num_benjamini_hochberg_rejections)"
   ]
  },
  {
   "cell_type": "code",
   "execution_count": 20,
   "metadata": {
    "id": "VS58hEPmQxfr"
   },
   "outputs": [
    {
     "name": "stdout",
     "output_type": "stream",
     "text": [
      "[ True  True  True ... False False False]\n",
      "[694]\n"
     ]
    }
   ],
   "source": [
    "print(benjamini_hochberg_significant)\n",
    "print(np.argwhere(benjamini_hochberg_significant)[-1])"
   ]
  }
 ],
 "metadata": {
  "colab": {
   "collapsed_sections": [],
   "name": "HW1_Problem4.ipynb",
   "provenance": []
  },
  "interpreter": {
   "hash": "9b1ceda625d8b52644e2bb922a597b4e19cdaeb71f5a1871c834a12a8e9f86bf"
  },
  "kernelspec": {
   "display_name": "Python 3.6.13 ('6.86x')",
   "language": "python",
   "name": "python3"
  },
  "language_info": {
   "codemirror_mode": {
    "name": "ipython",
    "version": 3
   },
   "file_extension": ".py",
   "mimetype": "text/x-python",
   "name": "python",
   "nbconvert_exporter": "python",
   "pygments_lexer": "ipython3",
   "version": "3.6.13"
  }
 },
 "nbformat": 4,
 "nbformat_minor": 1
}
