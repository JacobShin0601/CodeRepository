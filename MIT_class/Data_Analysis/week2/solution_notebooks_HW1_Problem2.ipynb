{
 "cells": [
  {
   "cell_type": "code",
   "execution_count": 5,
   "metadata": {
    "id": "KWmS98EtbrsU"
   },
   "outputs": [],
   "source": [
    "import zipfile\n",
    "import numpy as np\n",
    "import numpy.lib.recfunctions\n",
    "import io\n",
    "import matplotlib.pyplot as plt\n",
    "\n",
    "# Load the data\n",
    "with zipfile.ZipFile(\"statsreview_release1.zip\") as zip_file:\n",
    "  gamma_data = np.genfromtxt(io.TextIOWrapper(zip_file.open('data_and_materials/gamma-ray.csv')), delimiter=',', names=True)\n"
   ]
  },
  {
   "cell_type": "code",
   "execution_count": 14,
   "metadata": {},
   "outputs": [],
   "source": [
    "## Practice\n",
    "import zipfile\n",
    "import numpy as np\n",
    "import numpy.lib.recfunctions\n",
    "import io\n",
    "import matplotlib.pyplot as plt\n",
    "\n",
    "with zipfile.ZipFile(\"statsreview_release1.zip\") as zip_file:\n",
    "    gamma_data2 = np.genfromtxt(io.TextIOWrapper(zip_file.open('data_and_materials/gamma-ray.csv')), delimiter=',', names=True)\n",
    "    "
   ]
  },
  {
   "cell_type": "code",
   "execution_count": 15,
   "metadata": {},
   "outputs": [
    {
     "name": "stdout",
     "output_type": "stream",
     "text": [
      "('seconds', 'count')\n",
      "[( 116. , 0.) ( 112. , 0.) ( 160. , 0.) (  51.5, 0.) ( 102. , 1.)\n",
      " (  77.4, 0.) (  14.5, 0.) (1070. , 3.) (  99.1, 1.) (  49.6, 0.)\n",
      " (  50.8, 0.) (  77.2, 0.) ( 114. , 0.) ( 165. , 0.) ( 106. , 0.)\n",
      " (  52.9, 0.) ( 104. , 2.) (  51. , 2.) (  51.4, 0.) ( 316. , 2.)\n",
      " ( 687. , 4.) ( 101. , 0.) (  99.7, 0.) (  49.2, 0.) (  49.2, 1.)\n",
      " ( 104. , 0.) (  53.5, 0.) ( 124. , 0.) ( 168. , 0.) ( 109. , 0.)\n",
      " ( 107. , 1.) ( 103. , 0.) (  52.1, 0.) ( 104. , 1.) ( 656. , 5.)\n",
      " ( 111. , 1.) ( 417. , 2.) ( 149. , 1.) (  56.5, 1.) (  12.5, 0.)\n",
      " ( 101. , 1.) ( 107. , 0.) ( 113. , 1.) (  80.8, 0.) ( 110. , 0.)\n",
      " ( 109. , 0.) ( 105. , 0.) ( 104. , 1.) ( 107. , 0.) (  53.3, 0.)\n",
      " (  51.1, 0.) ( 868. , 1.) ( 105. , 0.) ( 105. , 0.) ( 103. , 2.)\n",
      " ( 104. , 0.) ( 105. , 0.) (  52.1, 0.) (  52.3, 0.) (1110. , 0.)\n",
      " (  30.4, 0.) ( 116. , 0.) (  44.9, 0.) (  46.1, 0.) (  97.9, 0.)\n",
      " ( 102. , 1.) ( 162. , 0.) ( 102. , 0.) ( 102. , 0.) (  98.7, 0.)\n",
      " (  98.7, 2.) ( 103. , 0.) (  51.6, 1.) (  53.1, 0.) (1290. , 3.)\n",
      " (  56.8, 0.) (  89.2, 1.) (  52.8, 1.) (  72.2, 0.) ( 111. , 0.)\n",
      " (  57.7, 0.) (  32.8, 0.) (  99.6, 2.) (  50.9, 1.) (  51.2, 0.)\n",
      " (1350. , 6.) (  69.1, 0.) (  67.7, 0.) (  38.2, 1.) (  37.9, 0.)\n",
      " (  31.3, 0.) ( 121. , 0.) (  55.8, 0.) ( 460. , 7.) ( 128. , 0.)\n",
      " (  38.7, 1.) (  41.8, 0.) (  81.7, 0.) (  88.3, 0.) (  37.4, 0.)]\n"
     ]
    }
   ],
   "source": [
    "with zipfile.ZipFile(\"statsreview_release1.zip\") as zip_file:\n",
    "    gamma_data = np.genfromtxt(io.TextIOWrapper(zip_file.open('data_and_materials/gamma-ray.csv')), delimiter=',', names=True)\n",
    "\n",
    "print(gamma_data.dtype.names)\n",
    "print(gamma_data)    "
   ]
  },
  {
   "cell_type": "markdown",
   "metadata": {
    "id": "n3FEzb0JksFf"
   },
   "source": [
    "Part (d)"
   ]
  },
  {
   "cell_type": "code",
   "execution_count": 18,
   "metadata": {
    "colab": {
     "base_uri": "https://localhost:8080/"
    },
    "id": "ijbvEczvcCM9",
    "outputId": "2d098dac-73e2-4e67-c4d6-be6bc42e1af6"
   },
   "outputs": [
    {
     "name": "stdout",
     "output_type": "stream",
     "text": [
      "H0 = 0.0038808514969907496\n",
      "H1 = [0.         0.         0.         0.         0.00980392 0.\n",
      " 0.         0.00280374 0.01009082 0.         0.         0.\n",
      " 0.         0.         0.         0.         0.01923077 0.03921569\n",
      " 0.         0.00632911 0.00582242 0.         0.         0.\n",
      " 0.0203252  0.         0.         0.         0.         0.\n",
      " 0.00934579 0.         0.         0.00961538 0.00762195 0.00900901\n",
      " 0.00479616 0.00671141 0.01769912 0.         0.00990099 0.\n",
      " 0.00884956 0.         0.         0.         0.         0.00961538\n",
      " 0.         0.         0.         0.00115207 0.         0.\n",
      " 0.01941748 0.         0.         0.         0.         0.\n",
      " 0.         0.         0.         0.         0.         0.00980392\n",
      " 0.         0.         0.         0.         0.02026342 0.\n",
      " 0.01937984 0.         0.00232558 0.         0.01121076 0.01893939\n",
      " 0.         0.         0.         0.         0.02008032 0.01964637\n",
      " 0.         0.00444444 0.         0.         0.02617801 0.\n",
      " 0.         0.         0.         0.01521739 0.         0.02583979\n",
      " 0.         0.         0.         0.        ]\n"
     ]
    }
   ],
   "source": [
    "# For H0, the MLE estimator is a single average rate over the whole dataset\n",
    "lambda_hat_H0 = gamma_data['count'].sum()/gamma_data['seconds'].sum()\n",
    "# For H1, each bin has its own parameter, lambda_i, and so the MLE estimator is an array of rates for each bin\n",
    "lambdas_hat_H1 = gamma_data['count']/gamma_data['seconds']\n",
    "print(\"H0 = {}\".format(lambda_hat_H0))\n",
    "print(\"H1 = {}\".format(lambdas_hat_H1))"
   ]
  },
  {
   "cell_type": "markdown",
   "metadata": {
    "id": "nzFCLcB7k60L"
   },
   "source": [
    "Part (f-2)"
   ]
  },
  {
   "cell_type": "code",
   "execution_count": 11,
   "metadata": {
    "colab": {
     "base_uri": "https://localhost:8080/",
     "height": 269
    },
    "id": "dYFkaH_ZdFU9",
    "outputId": "2fb630a7-52db-429b-a945-596662cfb450"
   },
   "outputs": [
    {
     "data": {
      "image/png": "[encoded data removed]",
      "text/plain": [
       "<Figure size 432x288 with 1 Axes>"
      ]
     },
     "metadata": {
      "needs_background": "light"
     },
     "output_type": "display_data"
    }
   ],
   "source": [
    "import scipy.stats\n",
    "\n",
    "# Here we plot the chi^2 distribution for 99 degrees of freedom in the range of insterest (around the mean)\n",
    "plot_Xs = np.arange(50,150,0.1)\n",
    "plt.plot(plot_Xs, scipy.stats.chi2.pdf(plot_Xs, 99))\n",
    "plt.show()"
   ]
  },
  {
   "cell_type": "markdown",
   "metadata": {
    "id": "lQ8v-u73k9bf"
   },
   "source": [
    "Part (f-3)"
   ]
  },
  {
   "cell_type": "code",
   "execution_count": 21,
   "metadata": {
    "colab": {
     "base_uri": "https://localhost:8080/"
    },
    "id": "9t9WVHImd9xt",
    "outputId": "0e214c81-bc5d-4e91-c0ce-667920253444"
   },
   "outputs": [
    {
     "data": {
      "text/plain": [
       "123.22522145336181"
      ]
     },
     "execution_count": 21,
     "metadata": {},
     "output_type": "execute_result"
    }
   ],
   "source": [
    "# The p-value for Lambda can be calculated using the survival function for the chi^2 distribution.\n",
    "# Thus, we can calculate the Lambda that would give a p-value of 0.05 by using the inverse survival function\n",
    "scipy.stats.chi2.isf(0.05, 99)"
   ]
  },
  {
   "cell_type": "markdown",
   "metadata": {
    "id": "065uYj8Zk_sA"
   },
   "source": [
    "Part (f-4)"
   ]
  },
  {
   "cell_type": "code",
   "execution_count": 6,
   "metadata": {
    "colab": {
     "base_uri": "https://localhost:8080/"
    },
    "id": "YSMlrxhwj_2c",
    "outputId": "d48609a1-5ab6-4062-c0f4-8303fe81ff61"
   },
   "outputs": [
    {
     "name": "stdout",
     "output_type": "stream",
     "text": [
      "104.39792133021314 0.33576662402509894\n"
     ]
    }
   ],
   "source": [
    "\n",
    "def likelihood_H0(lamb):\n",
    "  # The likelihood function is a product of Poisson distributions. For H0, each Poisson distribution\n",
    "  # has the same mean.\n",
    "  return scipy.stats.poisson.pmf(gamma_data['count'], gamma_data['seconds']*lamb).prod(axis=0)\n",
    "\n",
    "def likelihood_H1(lambs):\n",
    "  # For H1, the means for the Poisson distributions are given by the parameter 'lambs'\n",
    "  return scipy.stats.poisson.pmf(gamma_data['count'], gamma_data['seconds']*lambs).prod(axis=0)\n",
    "\n",
    "# The test statistic for the MLE is given by calculating the likelihood ratio for the MLE estimators\n",
    "# calculated earlier.\n",
    "Lambda_observed = -2*np.log(likelihood_H0(lambda_hat_H0)/likelihood_H1(lambdas_hat_H1))\n",
    "# Now we can use the survival function to find the p-value for the observed data\n",
    "# with the MLE estimators.\n",
    "pvalue = scipy.stats.chi2.sf(Lambda_observed, 99)\n",
    "print(Lambda_observed, pvalue)"
   ]
  },
  {
   "cell_type": "code",
   "execution_count": null,
   "metadata": {
    "id": "nCLorlwnkTON"
   },
   "outputs": [],
   "source": []
  }
 ],
 "metadata": {
  "colab": {
   "collapsed_sections": [],
   "name": "HW1_Problem2.ipynb",
   "provenance": []
  },
  "interpreter": {
   "hash": "c4cd6255e7d506af5b310c9db8e5590bb7e9ff47ad141b2fd33807f877700131"
  },
  "kernelspec": {
   "display_name": "Python 3.6.13 ('6.86x')",
   "language": "python",
   "name": "python3"
  },
  "language_info": {
   "codemirror_mode": {
    "name": "ipython",
    "version": 3
   },
   "file_extension": ".py",
   "mimetype": "text/x-python",
   "name": "python",
   "nbconvert_exporter": "python",
   "pygments_lexer": "ipython3",
   "version": "3.6.13"
  }
 },
 "nbformat": 4,
 "nbformat_minor": 1
}
