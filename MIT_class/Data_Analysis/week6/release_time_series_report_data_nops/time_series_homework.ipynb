{
 "cells": [
  {
   "cell_type": "code",
   "execution_count": null,
   "metadata": {},
   "outputs": [],
   "source": [
    "import pandas as pd\n",
    "import numpy as np\n",
    "import sklearn\n",
    "from sklearn.linear_model import LinearRegression\n",
    "from sklearn.model_selection import train_test_split\n",
    "\n",
    "%matplotlib inline\n",
    "import matplotlib.pyplot as plt\n",
    "from sklearn.metrics import mean_squared_error\n",
    "from sklearn.metrics import mean_absolute_error\n",
    "# from sklearn.metrics import mean_absolute_percentage_error\n",
    "# from sklearn.metrics import mean_absolute_percentage_error ### over ver 0.24\n",
    "from sklearn.preprocessing import PolynomialFeatures\n",
    "from sklearn.pipeline import make_pipeline\n"
   ]
  },
  {
   "cell_type": "code",
   "execution_count": null,
   "metadata": {},
   "outputs": [],
   "source": [
    "### open co2.csv file and get header from 55th row of the file and get data from 58th row of the file\n",
    "df = pd.read_csv('co2.csv', header=1, skiprows=53)\n",
    "# df.head()\n",
    "\n",
    "### delete first and second row of the dataframes\n",
    "df = df.iloc[2:]\n",
    "# df.head()\n",
    "\n",
    "### reset index of the dataframe to get rid of old index\n",
    "df = df.reset_index(drop=True)\n",
    "# df.head()\n",
    "df['Mn_int'] = df[' Mn'].astype(int)\n",
    "df['CO2_float'] = df['     CO2'].astype(float)\n",
    "# df.head()\n",
    "df['t_i'] = (df['Mn_int'] + 0.5)/12\n",
    "df_processed = df[df['CO2_float'] != -99.99]\n",
    "df_processed.head()\n",
    "# df.columns\n",
    "\n",
    "\n"
   ]
  },
  {
   "cell_type": "code",
   "execution_count": null,
   "metadata": {},
   "outputs": [],
   "source": [
    "### dividing test and test data in the ratio of 80:20 with\n",
    "### train_test_split function\n",
    "X = df_processed[['t_i']].values\n",
    "y = df_processed['CO2_float'].values\n",
    "X_train, X_test, y_train, y_test = train_test_split(X, y, test_size=0.2, random_state=0)\n",
    "# print(X_train.shape)\n",
    "# print(X_test.shape)\n",
    "# print(y_train.shape)\n",
    "# print(y_test.shape)\n"
   ]
  },
  {
   "cell_type": "code",
   "execution_count": null,
   "metadata": {},
   "outputs": [],
   "source": [
    "reg = LinearRegression()\n",
    "# X = df_processed['t_i'].values.reshape(-1,1)\n",
    "# y = df_processed['CO2_float'].values\n",
    "reg.fit(X_train, y_train)\n",
    "# reg.coef_\n",
    "# reg.intercept_"
   ]
  },
  {
   "cell_type": "code",
   "execution_count": null,
   "metadata": {},
   "outputs": [],
   "source": [
    "reg.coef_\n",
    "# reg.intercept_"
   ]
  },
  {
   "cell_type": "code",
   "execution_count": null,
   "metadata": {},
   "outputs": [],
   "source": [
    "### make predictions\n",
    "y_pred = reg.predict(X_test)\n",
    "\n",
    "### calculate residual and make a plot\n",
    "residual = y_test - y_pred\n",
    "plt.plot(df['Mn_int'][:len(residual)], residual, 'o', color = 'red')\n",
    "\n",
    "# prediction = reg.predict(x_train)\n",
    "# residual = (y_train - prediction)\n",
    "# # print(residual)\n",
    "\n",
    "# plt.plot(x_train, residual, 'o', color='red');"
   ]
  },
  {
   "cell_type": "code",
   "execution_count": null,
   "metadata": {},
   "outputs": [],
   "source": [
    "def mean_absolute_percentage_error(y_true, y_pred): \n",
    "    y_true, y_pred = np.array(y_true), np.array(y_pred)\n",
    "    return np.mean(np.abs((y_true - y_pred) / y_true)) * 100"
   ]
  },
  {
   "cell_type": "code",
   "execution_count": null,
   "metadata": {},
   "outputs": [],
   "source": [
    "print('MSE: ', mean_squared_error(y_test, y_pred, squared = False))\n",
    "print('MAE: ', mean_absolute_percentage_error(y_test, y_pred))"
   ]
  },
  {
   "cell_type": "code",
   "execution_count": null,
   "metadata": {},
   "outputs": [],
   "source": [
    "\n",
    "### Transforming the dataframe to float64\n",
    "df_new = df_new.astype(float)\n",
    "df_new.head()\n",
    "\n",
    "### If the row in df_new contains -99.99, then drop the row with -99.99\n",
    "df_new_drop = df_new.drop(df_new[df_new == -99.99].index)\n",
    "df_new_drop.head()"
   ]
  },
  {
   "cell_type": "code",
   "execution_count": null,
   "metadata": {},
   "outputs": [],
   "source": [
    "### Making df_new_drop as numpy array with index\n",
    "arr_values = df_new_drop.values\n",
    "\n",
    "### Making a new array from index of df_new_drop\n",
    "arr_index = df_new_drop.index\n",
    "arr_index = arr_index.to_numpy()\n",
    "arr_index = (arr_index+0.5)/12\n",
    "# print(arr_index)\n",
    "\n",
    "print(arr_values.shape)\n",
    "print(arr_index.shape)\n",
    "print(type(arr_values))\n",
    "print(type(arr_index))\n",
    "\n",
    "# arr_CO2 = np.vstack((arr_index, arr_values))\n",
    "# arr_CO2 = arr_CO2.T\n",
    "# print(arr_CO2)"
   ]
  },
  {
   "cell_type": "code",
   "execution_count": null,
   "metadata": {},
   "outputs": [],
   "source": [
    "x_train, x_test, y_train, y_test = train_test_split(arr_index, arr_values, test_size=0.2)\n",
    "x_train = x_train.reshape(-1, 1)\n",
    "x_test = x_test.reshape(-1, 1)\n",
    "y_train = y_train.reshape(-1, 1)\n",
    "y_test = y_test.reshape(-1, 1)\n",
    "\n",
    "print(x_train.shape, x_test.shape, y_train.shape, y_test.shape)"
   ]
  },
  {
   "cell_type": "code",
   "execution_count": null,
   "metadata": {},
   "outputs": [],
   "source": [
    "### Making Simple Linear Regression Model with x_train and y_train\n",
    "reg = LinearRegression()\n",
    "reg.fit(x_train, y_train)\n"
   ]
  },
  {
   "cell_type": "code",
   "execution_count": null,
   "metadata": {},
   "outputs": [],
   "source": [
    "print('Intercept: ', reg.intercept_)\n",
    "print('Coef: ', reg.coef_)"
   ]
  },
  {
   "cell_type": "code",
   "execution_count": null,
   "metadata": {},
   "outputs": [],
   "source": [
    "prediction = reg.predict(x_train)\n",
    "residual = (y_train - prediction)\n",
    "# print(residual)\n",
    "\n",
    "plt.plot(x_train, residual, 'o', color='red');"
   ]
  },
  {
   "cell_type": "code",
   "execution_count": null,
   "metadata": {},
   "outputs": [],
   "source": [
    "print('MSE: ', mean_squared_error(y_train, prediction, squared = False))\n",
    "print('MAE: ', mean_absolute_error(y_train, prediction))"
   ]
  },
  {
   "cell_type": "code",
   "execution_count": null,
   "metadata": {},
   "outputs": [],
   "source": [
    "degree=9\n",
    "polyreg=make_pipeline(PolynomialFeatures(degree),LinearRegression())\n",
    "polyreg.fit(x_train, y_train)\n"
   ]
  },
  {
   "cell_type": "code",
   "execution_count": null,
   "metadata": {},
   "outputs": [],
   "source": [
    "lin_reg = LinearRegression()\n",
    "lin_reg.fit(polyreg, y_train)\n",
    "y_pred = lin_reg.predict(polyreg)"
   ]
  },
  {
   "cell_type": "code",
   "execution_count": null,
   "metadata": {},
   "outputs": [],
   "source": []
  }
 ],
 "metadata": {
  "kernelspec": {
   "display_name": "Python 3.6.13 ('6.86x')",
   "language": "python",
   "name": "python3"
  },
  "language_info": {
   "codemirror_mode": {
    "name": "ipython",
    "version": 3
   },
   "file_extension": ".py",
   "mimetype": "text/x-python",
   "name": "python",
   "nbconvert_exporter": "python",
   "pygments_lexer": "ipython3",
   "version": "3.6.13"
  },
  "orig_nbformat": 4,
  "vscode": {
   "interpreter": {
    "hash": "9b1ceda625d8b52644e2bb922a597b4e19cdaeb71f5a1871c834a12a8e9f86bf"
   }
  }
 },
 "nbformat": 4,
 "nbformat_minor": 2
}
