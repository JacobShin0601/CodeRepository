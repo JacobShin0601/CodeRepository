{
 "cells": [
  {
   "cell_type": "code",
   "execution_count": 57,
   "metadata": {},
   "outputs": [],
   "source": [
    "import numpy as np\n",
    "import pandas as pd\n",
    "import matplotlib.pyplot as plt\n",
    "from sklearn.linear_model import LinearRegression\n"
   ]
  },
  {
   "cell_type": "markdown",
   "metadata": {},
   "source": [
    "(1) Expecting CPI alone"
   ]
  },
  {
   "cell_type": "code",
   "execution_count": 64,
   "metadata": {},
   "outputs": [
    {
     "data": {
      "text/html": [
       "<div>\n",
       "<style scoped>\n",
       "    .dataframe tbody tr th:only-of-type {\n",
       "        vertical-align: middle;\n",
       "    }\n",
       "\n",
       "    .dataframe tbody tr th {\n",
       "        vertical-align: top;\n",
       "    }\n",
       "\n",
       "    .dataframe thead th {\n",
       "        text-align: right;\n",
       "    }\n",
       "</style>\n",
       "<table border=\"1\" class=\"dataframe\">\n",
       "  <thead>\n",
       "    <tr style=\"text-align: right;\">\n",
       "      <th></th>\n",
       "      <th></th>\n",
       "      <th>CPI</th>\n",
       "    </tr>\n",
       "    <tr>\n",
       "      <th>year</th>\n",
       "      <th>month</th>\n",
       "      <th></th>\n",
       "    </tr>\n",
       "  </thead>\n",
       "  <tbody>\n",
       "    <tr>\n",
       "      <th rowspan=\"5\" valign=\"top\">2008</th>\n",
       "      <th>7</th>\n",
       "      <td>100.00000</td>\n",
       "    </tr>\n",
       "    <tr>\n",
       "      <th>8</th>\n",
       "      <td>100.52510</td>\n",
       "    </tr>\n",
       "    <tr>\n",
       "      <th>9</th>\n",
       "      <td>100.12380</td>\n",
       "    </tr>\n",
       "    <tr>\n",
       "      <th>10</th>\n",
       "      <td>99.98538</td>\n",
       "    </tr>\n",
       "    <tr>\n",
       "      <th>11</th>\n",
       "      <td>98.97539</td>\n",
       "    </tr>\n",
       "  </tbody>\n",
       "</table>\n",
       "</div>"
      ],
      "text/plain": [
       "                  CPI\n",
       "year month           \n",
       "2008 7      100.00000\n",
       "     8      100.52510\n",
       "     9      100.12380\n",
       "     10      99.98538\n",
       "     11      98.97539"
      ]
     },
     "execution_count": 64,
     "metadata": {},
     "output_type": "execute_result"
    }
   ],
   "source": [
    "### read CPI.csv file and make a data frame\n",
    "df = pd.read_csv('CPI.csv', parse_dates=True)\n",
    "# df.head()\n",
    "\n",
    "# ### check the index column of data frame\n",
    "# df.index\n",
    "\n",
    "# ### calculate mean by monthly basis\n",
    "# df_mean = df.resample('M').mean()\n",
    "# df_mean.head()\n",
    "\n",
    "df['date_processed'] = pd.to_datetime(df['date'])\n",
    "# df.head()\n",
    "\n",
    "df['year'] = df['date_processed'].dt.year\n",
    "df['month'] = df['date_processed'].dt.month\n",
    "# df.head()\n",
    "\n",
    "df_mean_by_month = pd.DataFrame(pd.pivot_table(data=df, index = ['year', 'month'], values = 'CPI', aggfunc = 'mean'))\n",
    "df_mean_by_month.head()\n"
   ]
  },
  {
   "cell_type": "code",
   "execution_count": 65,
   "metadata": {},
   "outputs": [
    {
     "name": "stderr",
     "output_type": "stream",
     "text": [
      "c:\\Users\\shin\\anaconda3\\envs\\6.86x\\lib\\site-packages\\pandas\\core\\indexes\\range.py:720: FutureWarning: Support for multi-dimensional indexing (e.g. `obj[:, None]`) is deprecated and will be removed in a future version.  Convert to a numpy array before indexing instead.\n",
      "  return super().__getitem__(key)\n",
      "c:\\Users\\shin\\anaconda3\\envs\\6.86x\\lib\\site-packages\\matplotlib\\cbook\\__init__.py:1402: FutureWarning: Support for multi-dimensional indexing (e.g. `obj[:, None]`) is deprecated and will be removed in a future version.  Convert to a numpy array before indexing instead.\n",
      "  x[:, None]\n",
      "c:\\Users\\shin\\anaconda3\\envs\\6.86x\\lib\\site-packages\\matplotlib\\axes\\_base.py:278: FutureWarning: Support for multi-dimensional indexing (e.g. `obj[:, None]`) is deprecated and will be removed in a future version.  Convert to a numpy array before indexing instead.\n",
      "  y = y[:, np.newaxis]\n"
     ]
    },
    {
     "data": {
      "text/plain": [
       "[<matplotlib.lines.Line2D at 0x147e61e9400>]"
      ]
     },
     "execution_count": 65,
     "metadata": {},
     "output_type": "execute_result"
    },
    {
     "data": {
      "image/png": "[encoded data removed]",
      "text/plain": [
       "<Figure size 432x288 with 1 Axes>"
      ]
     },
     "metadata": {
      "needs_background": "light"
     },
     "output_type": "display_data"
    }
   ],
   "source": [
    "plt.plot(df.index, df['CPI'])\n"
   ]
  },
  {
   "cell_type": "code",
   "execution_count": 71,
   "metadata": {},
   "outputs": [
    {
     "name": "stdout",
     "output_type": "stream",
     "text": [
      "(4122, 1)\n",
      "(4122, 1)\n",
      "[[   0]\n",
      " [   1]\n",
      " [   2]\n",
      " ...\n",
      " [4119]\n",
      " [4120]\n",
      " [4121]]\n"
     ]
    }
   ],
   "source": [
    "### Get the 'CPI' column from data frame and make it into numpy array\n",
    "arr_CPI = df['CPI'].values\n",
    "arr_CPI = arr_CPI.reshape(-1, 1)\n",
    "print(arr_CPI.shape)\n",
    "\n",
    "### If arr_CPI contains NaN, then remove the row with NaN\n",
    "arr_CPI = np.nan_to_num(arr_CPI)\n",
    "\n",
    "### get the index of data frame by monthly basis and make it into numpy array\n",
    "arr_index = df.index.values\n",
    "# print(arr_index)\n",
    "\n",
    "### change date format to int in arr_index\n",
    "arr_index = np.array(arr_index, dtype='int64')\n",
    "arr_index = arr_index\n",
    "arr_index = arr_index.reshape(-1, 1)\n",
    "print(arr_index.shape)\n",
    "print(arr_index)\n",
    "\n",
    "arr_index = np.nan_to_num(arr_index)\n"
   ]
  },
  {
   "cell_type": "code",
   "execution_count": 72,
   "metadata": {},
   "outputs": [
    {
     "data": {
      "text/plain": [
       "LinearRegression(copy_X=True, fit_intercept=True, n_jobs=None, normalize=False)"
      ]
     },
     "execution_count": 72,
     "metadata": {},
     "output_type": "execute_result"
    }
   ],
   "source": [
    "reg = LinearRegression()\n",
    "reg.fit(arr_index, arr_CPI)\n"
   ]
  },
  {
   "cell_type": "code",
   "execution_count": 73,
   "metadata": {},
   "outputs": [
    {
     "data": {
      "text/plain": [
       "array([[0.00325341]])"
      ]
     },
     "execution_count": 73,
     "metadata": {},
     "output_type": "execute_result"
    }
   ],
   "source": [
    "reg.coef_"
   ]
  },
  {
   "cell_type": "code",
   "execution_count": 74,
   "metadata": {},
   "outputs": [
    {
     "data": {
      "text/plain": [
       "array([99.12196055])"
      ]
     },
     "execution_count": 74,
     "metadata": {},
     "output_type": "execute_result"
    }
   ],
   "source": [
    "reg.intercept_"
   ]
  },
  {
   "cell_type": "code",
   "execution_count": null,
   "metadata": {},
   "outputs": [],
   "source": []
  }
 ],
 "metadata": {
  "kernelspec": {
   "display_name": "Python 3.6.13 ('6.86x')",
   "language": "python",
   "name": "python3"
  },
  "language_info": {
   "codemirror_mode": {
    "name": "ipython",
    "version": 3
   },
   "file_extension": ".py",
   "mimetype": "text/x-python",
   "name": "python",
   "nbconvert_exporter": "python",
   "pygments_lexer": "ipython3",
   "version": "3.6.13"
  },
  "orig_nbformat": 4,
  "vscode": {
   "interpreter": {
    "hash": "c4cd6255e7d506af5b310c9db8e5590bb7e9ff47ad141b2fd33807f877700131"
   }
  }
 },
 "nbformat": 4,
 "nbformat_minor": 2
}
