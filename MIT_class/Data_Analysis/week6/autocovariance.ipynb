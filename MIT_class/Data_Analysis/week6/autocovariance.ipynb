{
 "cells": [
  {
   "cell_type": "code",
   "execution_count": 4,
   "metadata": {},
   "outputs": [],
   "source": [
    "import pandas as pd\n",
    "import numpy as np\n",
    "import matplotlib.pyplot as plt\n",
    "import seaborn as sns\n",
    "import scipy.stats\n",
    "import os\n",
    "\n",
    "org_path = \"...\"\n",
    "os.chdir(org_path)\n",
    "\n",
    "## Data loading & Null checking\n",
    "raw_csv_data= pd.read_csv(\"snp_index.csv\")\n",
    "df = raw_csv_data[[\"Date\",\"Close\"]].copy()\n",
    "df.head()\n",
    "df.describe()\n",
    "df.isna().sum()\n",
    "df.isna().any()"
   ]
  },
  {
   "cell_type": "code",
   "execution_count": null,
   "metadata": {},
   "outputs": [],
   "source": [
    "## Plotting\n",
    "df.Close.plot(title = \"S&P500 Price\")\n",
    "\n",
    "## 정규확률그림\n",
    "scipy.stats.probplot(df.Close, plot = plt)\n",
    "plt.show()"
   ]
  },
  {
   "cell_type": "code",
   "execution_count": null,
   "metadata": {},
   "outputs": [],
   "source": [
    "## from text to date\n",
    "df.Date = pd.to_datetime(df_comp.Date, dayfirst = False)\n",
    "df.head()\n",
    "df.Date.describe()\n",
    "\n",
    "\n",
    "## setting index\n",
    "df.set_index(\"Date\", inplace = True)\n",
    "df=df_comp.asfreq(freq=\"B\")\n",
    "df.head()\n",
    "df.isna().sum()"
   ]
  },
  {
   "cell_type": "code",
   "execution_count": null,
   "metadata": {},
   "outputs": [],
   "source": [
    "## fillna\n",
    "df=df.fillna(method='ffill')\n",
    "#df=df.fillna(method='bfill')\n",
    "#df=df.fillna(value='df.Close.mean()')"
   ]
  },
  {
   "cell_type": "code",
   "execution_count": null,
   "metadata": {},
   "outputs": [],
   "source": [
    "## Splitting the data\n",
    "size = int(lne(df)*0.8)\n",
    "df_train = df.iloc[:size]\n",
    "df_test = df.iloc[size:]"
   ]
  },
  {
   "cell_type": "code",
   "execution_count": null,
   "metadata": {},
   "outputs": [],
   "source": [
    "# 이번 실습에서 활용한 데이터는 S&P500 index 데이터 입니다. S&P500 index 데이터는 Yahoo finance에서 다운받아서 활용합니다. (finance.yahoo.com/quote/%5EGSPC/history?p=%5EGSPC)\n",
    "\n",
    "# 여기서 저는 종가만 활용할 것이기 때문에 종가 column만 가지고 오겠습니다."
   ]
  },
  {
   "cell_type": "code",
   "execution_count": 3,
   "metadata": {},
   "outputs": [
    {
     "ename": "AttributeError",
     "evalue": "module 'statsmodels' has no attribute 'tsa'",
     "output_type": "error",
     "traceback": [
      "\u001b[1;31m---------------------------------------------------------------------------\u001b[0m",
      "\u001b[1;31mAttributeError\u001b[0m                            Traceback (most recent call last)",
      "\u001b[1;32m<ipython-input-3-c5aac8411275>\u001b[0m in \u001b[0;36m<module>\u001b[1;34m\u001b[0m\n\u001b[1;32m----> 1\u001b[1;33m \u001b[0mPACF\u001b[0m \u001b[1;33m=\u001b[0m \u001b[0mstatsmodels\u001b[0m\u001b[1;33m.\u001b[0m\u001b[0mtsa\u001b[0m\u001b[1;33m.\u001b[0m\u001b[0mstattools\u001b[0m\u001b[1;33m.\u001b[0m\u001b[0mpacf\u001b[0m\u001b[1;33m(\u001b[0m\u001b[1;36m0.5\u001b[0m\u001b[1;33m,\u001b[0m \u001b[0mnlags\u001b[0m\u001b[1;33m=\u001b[0m\u001b[1;32mNone\u001b[0m\u001b[1;33m,\u001b[0m \u001b[0mmethod\u001b[0m\u001b[1;33m=\u001b[0m\u001b[1;34m'ywadjusted'\u001b[0m\u001b[1;33m,\u001b[0m \u001b[0malpha\u001b[0m\u001b[1;33m=\u001b[0m\u001b[1;32mNone\u001b[0m\u001b[1;33m)\u001b[0m\u001b[1;33m\u001b[0m\u001b[1;33m\u001b[0m\u001b[0m\n\u001b[0m\u001b[0;32m      2\u001b[0m \u001b[0mprint\u001b[0m\u001b[1;33m(\u001b[0m\u001b[0mPACF\u001b[0m\u001b[1;33m)\u001b[0m\u001b[1;33m\u001b[0m\u001b[1;33m\u001b[0m\u001b[0m\n",
      "\u001b[1;31mAttributeError\u001b[0m: module 'statsmodels' has no attribute 'tsa'"
     ]
    }
   ],
   "source": [
    "PACF = statsmodels.tsa.stattools.pacf(0.5, nlags=None, method='ywadjusted', alpha=None)\n",
    "print(PACF)"
   ]
  },
  {
   "cell_type": "code",
   "execution_count": null,
   "metadata": {},
   "outputs": [],
   "source": [
    "import statsmodels.graphics.tsaplots as sgt \n",
    "\n",
    "## Close\n",
    "fig = plt.figure()\n",
    "ax1 = fig.add_subplot(2, 1, 1)\n",
    "ax2 = fig.add_subplot(2, 1, 2)\n",
    "\n",
    "sgt.plot_acf(df['Close'], lags = 20, zero = False, ax=ax1)\n",
    "ax1.set_title(\"ACF S&P\")\n",
    "\n",
    "\n",
    "sgt.plot_pacf(df['Close'], lags = 20, zero = False, method = ('ols'), ax=ax2)\n",
    "ax2.set_title(\"PACF S&P\")\n",
    "\n",
    "plt.show()"
   ]
  },
  {
   "cell_type": "code",
   "execution_count": null,
   "metadata": {},
   "outputs": [],
   "source": [
    "## White Noise\n",
    "fig = plt.figure()\n",
    "ax1 = fig.add_subplot(2, 1, 1)\n",
    "ax2 = fig.add_subplot(2, 1, 2)\n",
    "\n",
    "sgt.plot_acf(df['wn'], lags = 20, zero = False, ax=ax1)\n",
    "ax1.set_title(\"white noise\")\n",
    "\n",
    "\n",
    "sgt.plot_pacf(df['wn'], lags = 20, zero = False, method = ('ols'), ax=ax2)\n",
    "ax2.set_title(\"white noise\")\n",
    "\n",
    "plt.show()"
   ]
  },
  {
   "cell_type": "code",
   "execution_count": 1,
   "metadata": {},
   "outputs": [],
   "source": [
    "import numpy as np\n",
    "import math"
   ]
  },
  {
   "cell_type": "code",
   "execution_count": 6,
   "metadata": {},
   "outputs": [
    {
     "name": "stdout",
     "output_type": "stream",
     "text": [
      "15.394829814011908\n",
      "12.368978884071453\n",
      "64.47238260383328\n",
      "110.52408446371419\n"
     ]
    }
   ],
   "source": [
    "def AIC(k, L):\n",
    "    value = 2*k - 2*math.log(L)\n",
    "    return value\n",
    "\n",
    "def BIC(k, L, n):\n",
    "    value = k*math.log(n) - 2*math.log(L)\n",
    "    return value\n",
    "\n",
    "A_AIC = AIC(10, 10)\n",
    "print(A_AIC)\n",
    "\n",
    "B_AIC = AIC(20, 10**6)\n",
    "print(B_AIC)\n",
    "\n",
    "A_BIC = BIC(10, 10, 1000)\n",
    "print(A_BIC)\n",
    "\n",
    "B_BIC = BIC(20, 10**6, 1000)\n",
    "print(B_BIC)"
   ]
  }
 ],
 "metadata": {
  "kernelspec": {
   "display_name": "Python 3.6.13 ('6.86x')",
   "language": "python",
   "name": "python3"
  },
  "language_info": {
   "codemirror_mode": {
    "name": "ipython",
    "version": 3
   },
   "file_extension": ".py",
   "mimetype": "text/x-python",
   "name": "python",
   "nbconvert_exporter": "python",
   "pygments_lexer": "ipython3",
   "version": "3.6.13"
  },
  "orig_nbformat": 4,
  "vscode": {
   "interpreter": {
    "hash": "c4cd6255e7d506af5b310c9db8e5590bb7e9ff47ad141b2fd33807f877700131"
   }
  }
 },
 "nbformat": 4,
 "nbformat_minor": 2
}
