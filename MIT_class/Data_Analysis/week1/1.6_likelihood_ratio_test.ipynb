{
 "cells": [
  {
   "cell_type": "code",
   "execution_count": 11,
   "metadata": {},
   "outputs": [],
   "source": [
    "import scipy\n",
    "from scipy.special import comb\n",
    "from scipy.stats import binom\n",
    "from scipy.stats import fisher_exact\n",
    "from scipy.stats import norm\n",
    "\n",
    "from scipy.stats import hypergeom\n",
    "import matplotlib.pyplot as plt\n",
    "import numpy as np"
   ]
  },
  {
   "cell_type": "code",
   "execution_count": 2,
   "metadata": {},
   "outputs": [],
   "source": [
    "# import numpy as np\n",
    "\n",
    "# MLE_H_naught = 102/62000\n",
    "# MLE_H_A_treatment = 39/31000\n",
    "# MLE_H_A_control = 63/31000"
   ]
  },
  {
   "cell_type": "code",
   "execution_count": 8,
   "metadata": {},
   "outputs": [
    {
     "name": "stdout",
     "output_type": "stream",
     "text": [
      "1.3862943611198906\n"
     ]
    }
   ],
   "source": [
    "# likelihood_ratio_test = -2*(np.log(MLE_H_naught/(MLE_H_A_treatment+MLE_H_A_control)))\n",
    "# print(likelihood_ratio_test)"
   ]
  },
  {
   "cell_type": "code",
   "execution_count": 12,
   "metadata": {},
   "outputs": [
    {
     "name": "stdout",
     "output_type": "stream",
     "text": [
      "5.709660479762277\n"
     ]
    }
   ],
   "source": [
    "likelihood_ratio_test2 = -2*np.log(binom.pmf(39,31000,102/62000) * binom.pmf(63,31000,102/62000) / (binom.pmf(39,31000,39/31000) * binom.pmf(63,31000,63/31000)))\n",
    "## 분모에 전체의 확률로 각각의 경우에 binom이 들어가고, 분자에 개별 확률이 들어가서 곱을 하면 됨\n",
    "print(likelihood_ratio_test2)"
   ]
  }
 ],
 "metadata": {
  "interpreter": {
   "hash": "9b1ceda625d8b52644e2bb922a597b4e19cdaeb71f5a1871c834a12a8e9f86bf"
  },
  "kernelspec": {
   "display_name": "Python 3.6.13 ('6.86x')",
   "language": "python",
   "name": "python3"
  },
  "language_info": {
   "codemirror_mode": {
    "name": "ipython",
    "version": 3
   },
   "file_extension": ".py",
   "mimetype": "text/x-python",
   "name": "python",
   "nbconvert_exporter": "python",
   "pygments_lexer": "ipython3",
   "version": "3.6.13"
  },
  "orig_nbformat": 4
 },
 "nbformat": 4,
 "nbformat_minor": 2
}
