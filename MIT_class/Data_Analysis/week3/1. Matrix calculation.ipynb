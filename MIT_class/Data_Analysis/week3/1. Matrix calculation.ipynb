{
 "cells": [
  {
   "cell_type": "code",
   "execution_count": 1,
   "metadata": {},
   "outputs": [],
   "source": [
    "import numpy as np\n"
   ]
  },
  {
   "cell_type": "code",
   "execution_count": 6,
   "metadata": {},
   "outputs": [],
   "source": [
    "# def mean_vector(*arg):\n",
    "#     sum_vec = np.array(arg)\n",
    "#     for i in 1:length(arg):\n",
    "#         sum_vec += *arg[i]\n",
    "#     mean_vec = sum_vec / length(length(arg))\n",
    "        \n",
    "#     return mean_vec\n",
    "\n"
   ]
  },
  {
   "cell_type": "code",
   "execution_count": 35,
   "metadata": {},
   "outputs": [
    {
     "name": "stdout",
     "output_type": "stream",
     "text": [
      "[5.5  5.   3.25]\n",
      "[[30.25   27.5    17.875 ]\n",
      " [27.5    25.     16.25  ]\n",
      " [17.875  16.25   10.5625]]\n",
      "[[39.5  28.5  24.25]\n",
      " [28.5  32.5  16.25]\n",
      " [24.25 16.25 16.75]]\n"
     ]
    }
   ],
   "source": [
    "X = np.array([[8, 4, 7], [2, 8, 1], [3, 1, 1], [9, 7, 4]])\n",
    "\n",
    "mean_vec = np.mean(X, axis=0)\n",
    "print(mean_vec)\n",
    "mean_squared = np.outer(mean_vec.T, mean_vec)\n",
    "print(mean_squared)\n",
    "\n",
    "\n",
    "X_squared = np.zeros_like(mean_squared)\n",
    "for i in range(X.shape[0]):\n",
    "    X_squared += np.outer(X[i].T, X[i])\n",
    "\n",
    "X_squared_mean = X_squared/X.shape[0]\n",
    "print(X_squared_mean)\n"
   ]
  },
  {
   "cell_type": "code",
   "execution_count": 36,
   "metadata": {},
   "outputs": [
    {
     "name": "stdout",
     "output_type": "stream",
     "text": [
      "[[9.25   1.     6.375 ]\n",
      " [1.     7.5    0.    ]\n",
      " [6.375  0.     6.1875]]\n"
     ]
    }
   ],
   "source": [
    "result = X_squared_mean - mean_squared\n",
    "print(result)"
   ]
  },
  {
   "cell_type": "code",
   "execution_count": 39,
   "metadata": {},
   "outputs": [
    {
     "name": "stdout",
     "output_type": "stream",
     "text": [
      "[[12.33333333  1.33333333  8.5       ]\n",
      " [ 1.33333333 10.          0.        ]\n",
      " [ 8.5         0.          8.25      ]]\n"
     ]
    }
   ],
   "source": [
    "cov=np.cov(X.T, bias=True) \n",
    "print(cov)"
   ]
  },
  {
   "cell_type": "code",
   "execution_count": 49,
   "metadata": {},
   "outputs": [
    {
     "name": "stdout",
     "output_type": "stream",
     "text": [
      "[[ 0.66666667 -0.33333333 -0.33333333]\n",
      " [-0.33333333  0.66666667 -0.33333333]\n",
      " [-0.33333333 -0.33333333  0.66666667]]\n",
      "[ 2 -1 -2]\n",
      "[ 2.33333333 -0.66666667 -1.66666667]\n"
     ]
    }
   ],
   "source": [
    "X = np.array([2, -1, -2])\n",
    "\n",
    "num_vec = (X.T).shape[0]\n",
    "\n",
    "I_matrix = np.identity(num_vec)\n",
    "one_by_one = np.ones_like(I_matrix)\n",
    "one_by_one_reg = one_by_one/num_vec\n",
    "\n",
    "H = I_matrix - one_by_one_reg\n",
    "print(H)\n",
    "print(X.T)\n",
    "\n",
    "Hx = np.dot(H, X.T)\n",
    "print(Hx)\n"
   ]
  },
  {
   "cell_type": "code",
   "execution_count": 51,
   "metadata": {},
   "outputs": [
    {
     "name": "stdout",
     "output_type": "stream",
     "text": [
      "[[ 0.66666667 -0.33333333 -0.33333333]\n",
      " [-0.33333333  0.66666667 -0.33333333]\n",
      " [-0.33333333 -0.33333333  0.66666667]]\n",
      "[ 2.33333333 -0.66666667 -1.66666667]\n"
     ]
    }
   ],
   "source": [
    "H_2 = np.dot(H, H)\n",
    "print(H_2)\n",
    "\n",
    "H_2_x = np.dot(H_2, X)\n",
    "print(H_2_x)"
   ]
  },
  {
   "cell_type": "code",
   "execution_count": 74,
   "metadata": {},
   "outputs": [
    {
     "name": "stdout",
     "output_type": "stream",
     "text": [
      "2.23606797749979\n",
      "[1. 2.]\n",
      "4.919349550499537\n",
      "[2.2 4.4]\n",
      "-0.4472135954999579\n",
      "[-0.2 -0.4]\n",
      "[2.23606797749979, 4.919349550499537, -0.4472135954999579]\n",
      "4.8\n"
     ]
    }
   ],
   "source": [
    "d = 2\n",
    "u = np.array([1, 2]) * (1/np.sqrt(5))\n",
    "# print(u)\n",
    "\n",
    "X = np.array([[1, 2], [3, 4], [-1, 0]])\n",
    "\n",
    "var_cal = []\n",
    "for i in range(X.shape[0]):\n",
    "    u_x = np.dot(u.T, X[i].T)\n",
    "    print(u_x)\n",
    "    var_cal.append(u_x)\n",
    "\n",
    "    projection = u_x * u.T\n",
    "    print(projection)\n",
    "\n",
    "print(var_cal)\n",
    "var_signed = np.var(var_cal)\n",
    "print(var_signed)"
   ]
  },
  {
   "cell_type": "code",
   "execution_count": 94,
   "metadata": {},
   "outputs": [
    {
     "name": "stdout",
     "output_type": "stream",
     "text": [
      "[[2.66666667 2.66666667]\n",
      " [2.66666667 2.66666667]]\n",
      "[3.57770876 3.57770876]\n",
      "4.799999999999999\n"
     ]
    }
   ],
   "source": [
    "S = np.cov(X.T, bias = True)\n",
    "print(S)\n",
    "\n",
    "result_1 = np.dot(u, S)\n",
    "print(result_1)\n",
    "result_2 = np.dot(result_1, u.T)\n",
    "print(result_2)"
   ]
  }
 ],
 "metadata": {
  "interpreter": {
   "hash": "9b1ceda625d8b52644e2bb922a597b4e19cdaeb71f5a1871c834a12a8e9f86bf"
  },
  "kernelspec": {
   "display_name": "Python 3.6.13 ('6.86x')",
   "language": "python",
   "name": "python3"
  },
  "language_info": {
   "codemirror_mode": {
    "name": "ipython",
    "version": 3
   },
   "file_extension": ".py",
   "mimetype": "text/x-python",
   "name": "python",
   "nbconvert_exporter": "python",
   "pygments_lexer": "ipython3",
   "version": "3.6.13"
  },
  "orig_nbformat": 4
 },
 "nbformat": 4,
 "nbformat_minor": 2
}
