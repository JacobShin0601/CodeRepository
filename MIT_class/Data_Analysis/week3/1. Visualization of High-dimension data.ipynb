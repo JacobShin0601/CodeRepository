{
 "cells": [
  {
   "cell_type": "code",
   "execution_count": 1,
   "metadata": {},
   "outputs": [],
   "source": [
    "import numpy as np\n"
   ]
  },
  {
   "cell_type": "code",
   "execution_count": 2,
   "metadata": {},
   "outputs": [],
   "source": [
    "# def mean_vector(*arg):\n",
    "#     sum_vec = np.array(arg)\n",
    "#     for i in 1:length(arg):\n",
    "#         sum_vec += *arg[i]\n",
    "#     mean_vec = sum_vec / length(length(arg))\n",
    "        \n",
    "#     return mean_vec\n",
    "\n"
   ]
  },
  {
   "cell_type": "markdown",
   "metadata": {},
   "source": [
    "Principal Component Analysis (PCA)"
   ]
  },
  {
   "cell_type": "code",
   "execution_count": 3,
   "metadata": {},
   "outputs": [
    {
     "name": "stdout",
     "output_type": "stream",
     "text": [
      "[5.5  5.   3.25]\n",
      "[[30.25   27.5    17.875 ]\n",
      " [27.5    25.     16.25  ]\n",
      " [17.875  16.25   10.5625]]\n",
      "[[39.5  28.5  24.25]\n",
      " [28.5  32.5  16.25]\n",
      " [24.25 16.25 16.75]]\n"
     ]
    }
   ],
   "source": [
    "X = np.array([[8, 4, 7], [2, 8, 1], [3, 1, 1], [9, 7, 4]])\n",
    "\n",
    "mean_vec = np.mean(X, axis=0)\n",
    "print(mean_vec)\n",
    "mean_squared = np.outer(mean_vec.T, mean_vec)\n",
    "print(mean_squared)\n",
    "\n",
    "\n",
    "X_squared = np.zeros_like(mean_squared)\n",
    "for i in range(X.shape[0]):\n",
    "    X_squared += np.outer(X[i].T, X[i])\n",
    "\n",
    "X_squared_mean = X_squared/X.shape[0]\n",
    "print(X_squared_mean)\n"
   ]
  },
  {
   "cell_type": "code",
   "execution_count": 4,
   "metadata": {},
   "outputs": [
    {
     "name": "stdout",
     "output_type": "stream",
     "text": [
      "[[9.25   1.     6.375 ]\n",
      " [1.     7.5    0.    ]\n",
      " [6.375  0.     6.1875]]\n"
     ]
    }
   ],
   "source": [
    "result = X_squared_mean - mean_squared\n",
    "print(result)"
   ]
  },
  {
   "cell_type": "code",
   "execution_count": 5,
   "metadata": {},
   "outputs": [
    {
     "name": "stdout",
     "output_type": "stream",
     "text": [
      "[[9.25   1.     6.375 ]\n",
      " [1.     7.5    0.    ]\n",
      " [6.375  0.     6.1875]]\n"
     ]
    }
   ],
   "source": [
    "cov=np.cov(X.T, bias=True) \n",
    "print(cov)"
   ]
  },
  {
   "cell_type": "code",
   "execution_count": 6,
   "metadata": {},
   "outputs": [
    {
     "name": "stdout",
     "output_type": "stream",
     "text": [
      "[[ 0.66666667 -0.33333333 -0.33333333]\n",
      " [-0.33333333  0.66666667 -0.33333333]\n",
      " [-0.33333333 -0.33333333  0.66666667]]\n",
      "[ 2 -1 -2]\n",
      "[ 2.33333333 -0.66666667 -1.66666667]\n"
     ]
    }
   ],
   "source": [
    "X = np.array([2, -1, -2])\n",
    "\n",
    "num_vec = (X.T).shape[0]\n",
    "\n",
    "I_matrix = np.identity(num_vec)\n",
    "one_by_one = np.ones_like(I_matrix)\n",
    "one_by_one_reg = one_by_one/num_vec\n",
    "\n",
    "H = I_matrix - one_by_one_reg\n",
    "print(H)\n",
    "print(X.T)\n",
    "\n",
    "Hx = np.dot(H, X.T)\n",
    "print(Hx)\n"
   ]
  },
  {
   "cell_type": "code",
   "execution_count": 7,
   "metadata": {},
   "outputs": [
    {
     "name": "stdout",
     "output_type": "stream",
     "text": [
      "[[ 0.66666667 -0.33333333 -0.33333333]\n",
      " [-0.33333333  0.66666667 -0.33333333]\n",
      " [-0.33333333 -0.33333333  0.66666667]]\n",
      "[ 2.33333333 -0.66666667 -1.66666667]\n"
     ]
    }
   ],
   "source": [
    "H_2 = np.dot(H, H)\n",
    "print(H_2)\n",
    "\n",
    "H_2_x = np.dot(H_2, X)\n",
    "print(H_2_x)"
   ]
  },
  {
   "cell_type": "code",
   "execution_count": 8,
   "metadata": {},
   "outputs": [
    {
     "name": "stdout",
     "output_type": "stream",
     "text": [
      "2.23606797749979\n",
      "[1. 2.]\n",
      "4.919349550499537\n",
      "[2.2 4.4]\n",
      "-0.4472135954999579\n",
      "[-0.2 -0.4]\n",
      "[2.23606797749979, 4.919349550499537, -0.4472135954999579]\n",
      "4.8\n"
     ]
    }
   ],
   "source": [
    "d = 2\n",
    "u = np.array([1, 2]) * (1/np.sqrt(5))\n",
    "# print(u)\n",
    "\n",
    "X = np.array([[1, 2], [3, 4], [-1, 0]])\n",
    "\n",
    "var_cal = []\n",
    "for i in range(X.shape[0]):\n",
    "    u_x = np.dot(u.T, X[i].T)\n",
    "    print(u_x)\n",
    "    var_cal.append(u_x)\n",
    "\n",
    "    projection = u_x * u.T\n",
    "    print(projection)\n",
    "\n",
    "print(var_cal)\n",
    "var_signed = np.var(var_cal)\n",
    "print(var_signed)"
   ]
  },
  {
   "cell_type": "code",
   "execution_count": 9,
   "metadata": {},
   "outputs": [
    {
     "name": "stdout",
     "output_type": "stream",
     "text": [
      "[[2.66666667 2.66666667]\n",
      " [2.66666667 2.66666667]]\n",
      "[3.57770876 3.57770876]\n",
      "4.799999999999999\n"
     ]
    }
   ],
   "source": [
    "S = np.cov(X.T, bias = True)\n",
    "print(S)\n",
    "\n",
    "result_1 = np.dot(u, S)\n",
    "print(result_1)\n",
    "result_2 = np.dot(result_1, u.T)\n",
    "print(result_2)"
   ]
  },
  {
   "cell_type": "code",
   "execution_count": 10,
   "metadata": {},
   "outputs": [
    {
     "name": "stdout",
     "output_type": "stream",
     "text": [
      "[2 4 6 8]\n",
      "20\n",
      "20\n",
      "[[2 2 2 2]\n",
      " [4 4 4 4]\n",
      " [6 6 6 6]\n",
      " [8 8 8 8]]\n"
     ]
    }
   ],
   "source": [
    "A = np.array([1, 2, 3, 4])\n",
    "B = np.array([2, 2, 2, 2])\n",
    "\n",
    "multiple = A*B\n",
    "print(multiple)\n",
    "\n",
    "dot_product = np.dot(A, B)\n",
    "print(dot_product)\n",
    "\n",
    "mat_mul = A.T@B\n",
    "print(mat_mul)\n",
    "\n",
    "outer = np.outer(A, B)\n",
    "print(outer)"
   ]
  },
  {
   "cell_type": "code",
   "execution_count": 11,
   "metadata": {},
   "outputs": [
    {
     "name": "stdout",
     "output_type": "stream",
     "text": [
      "[[0.5 0.5]\n",
      " [0.5 2.5]]\n"
     ]
    }
   ],
   "source": [
    "# X = np.array([[0, 1], [0, -1]])\n",
    "# X = np.array([[1, 1/2], [-1, -1/2]])\n",
    "# X = np.array([[0, 2], [1, -1], [-1, -1]])\n",
    "X = np.array([[0, 2], [0, -2], [1, 1], [-1, -1]])\n",
    "\n",
    "\n",
    "#Sample covariance matrix\n",
    "cov_X = np.cov(X.T, bias = True) ## originally, we should put ddof=1 instead\n",
    "print(cov_X)"
   ]
  },
  {
   "cell_type": "code",
   "execution_count": 12,
   "metadata": {},
   "outputs": [
    {
     "name": "stdout",
     "output_type": "stream",
     "text": [
      "[0.38196601 2.61803399] [[-0.97324899 -0.22975292]\n",
      " [ 0.22975292 -0.97324899]]\n"
     ]
    }
   ],
   "source": [
    "from numpy import linalg\n",
    "\n",
    "w, v = linalg.eig(cov_X)\n",
    "print(w, v)"
   ]
  },
  {
   "cell_type": "code",
   "execution_count": 13,
   "metadata": {},
   "outputs": [
    {
     "name": "stdout",
     "output_type": "stream",
     "text": [
      "1\n",
      "-1.9464979789354604 1.9464979789354604 -0.743496068920369\n",
      "2.6487443445554533\n"
     ]
    }
   ],
   "source": [
    "## unit vector of eivenvector\n",
    "largest_idx_eivenvector = np.argmax(w)\n",
    "print(largest_idx_eivenvector)\n",
    "\n",
    "norm = linalg.norm(v[largest_idx_eivenvector])\n",
    "\n",
    "reg_eigenvector = v[largest_idx_eivenvector]/norm\n",
    "\n",
    "for i in range(X.shape[0]):\n",
    "    y_1 = reg_eigenvector@X[0]\n",
    "    y_2 = reg_eigenvector@X[1]\n",
    "    y_3 = reg_eigenvector@X[2]\n",
    "\n",
    "print(y_1, y_2, y_3)\n",
    "\n",
    "array_y = np.array([y_1, y_2, y_3])\n",
    "var_y = np.var(array_y)\n",
    "print(var_y)"
   ]
  },
  {
   "cell_type": "markdown",
   "metadata": {},
   "source": [
    "Multi-dimensional scaling\n",
    "MDS"
   ]
  },
  {
   "cell_type": "code",
   "execution_count": 14,
   "metadata": {},
   "outputs": [
    {
     "name": "stdout",
     "output_type": "stream",
     "text": [
      "[[ 1  1]\n",
      " [ 1 -1]\n",
      " [-1  1]]\n"
     ]
    }
   ],
   "source": [
    "X = np.array([1, 1, 1, -1, -1, 1])\n",
    "X = X.reshape(3, 2)\n",
    "print(X)"
   ]
  },
  {
   "cell_type": "code",
   "execution_count": 15,
   "metadata": {},
   "outputs": [
    {
     "name": "stdout",
     "output_type": "stream",
     "text": [
      "[[ 2  0  0]\n",
      " [ 0  2 -2]\n",
      " [ 0 -2  2]]\n",
      "[[ 0.88888889 -0.44444444]\n",
      " [-0.44444444  0.88888889]]\n"
     ]
    }
   ],
   "source": [
    "Gram_matrix = X.dot(X.T)\n",
    "print(Gram_matrix)\n",
    "\n",
    "cov_matrix = np.cov(X.T, bias=True)\n",
    "print(cov_matrix)"
   ]
  },
  {
   "cell_type": "code",
   "execution_count": 16,
   "metadata": {},
   "outputs": [
    {
     "name": "stdout",
     "output_type": "stream",
     "text": [
      "[4.0000000e+00 4.4408921e-16 2.0000000e+00] \n",
      " [[ 0.          0.          1.        ]\n",
      " [-0.70710678  0.70710678  0.        ]\n",
      " [ 0.70710678  0.70710678  0.        ]]\n"
     ]
    }
   ],
   "source": [
    "w, v = np.linalg.eig(Gram_matrix)\n",
    "print(w, '\\n', v)"
   ]
  },
  {
   "cell_type": "code",
   "execution_count": 17,
   "metadata": {},
   "outputs": [
    {
     "name": "stdout",
     "output_type": "stream",
     "text": [
      "0\n",
      "[ 0.         -0.70710678  0.70710678]\n"
     ]
    }
   ],
   "source": [
    "num_largest = np.argmax(w)\n",
    "print(num_largest)\n",
    "e_vector_largest = v.T[num_largest]\n",
    "print(e_vector_largest)"
   ]
  },
  {
   "cell_type": "code",
   "execution_count": 18,
   "metadata": {},
   "outputs": [
    {
     "name": "stdout",
     "output_type": "stream",
     "text": [
      "[ 0.         -0.70710678  0.70710678]\n"
     ]
    }
   ],
   "source": [
    "projection_axis = e_vector_largest/np.linalg.norm(e_vector_largest)\n",
    "print(projection_axis)"
   ]
  },
  {
   "cell_type": "code",
   "execution_count": 20,
   "metadata": {},
   "outputs": [],
   "source": [
    "### Y = V1 * eigenvalues matrix"
   ]
  },
  {
   "cell_type": "markdown",
   "metadata": {},
   "source": [
    "Stochastic Neighbor Embedding (SNE) and t-distributed Stochastic Neighbor Embedding (t-SNE)"
   ]
  },
  {
   "cell_type": "code",
   "execution_count": null,
   "metadata": {},
   "outputs": [],
   "source": []
  },
  {
   "cell_type": "code",
   "execution_count": 22,
   "metadata": {},
   "outputs": [
    {
     "name": "stdout",
     "output_type": "stream",
     "text": [
      "0.26894142136999505 0.26894142136999505 0.731058578630005\n"
     ]
    }
   ],
   "source": [
    "A = 1\n",
    "B = np.sqrt(2)\n",
    "\n",
    "p12 = np.exp(-B**2)/(np.exp(-A**2) + np.exp(-B**2))\n",
    "p13 = p12\n",
    "p23 = np.exp(-A**2)/(np.exp(-A**2) + np.exp(-B**2))\n",
    "\n",
    "# q12 = np.exp(-a^2)/(np.exp(-a^2) + np.exp(-(2*a)^2))\n",
    "# q13 = q12\n",
    "# q23 = np.exp(-(2*a)^2)/(np.exp(-a^2) + np.exp(-(2*a)^2))\n",
    "print(p12, p13, p23)\n",
    "\n",
    "KL = p12*np.log(p12/q12)"
   ]
  }
 ],
 "metadata": {
  "interpreter": {
   "hash": "9b1ceda625d8b52644e2bb922a597b4e19cdaeb71f5a1871c834a12a8e9f86bf"
  },
  "kernelspec": {
   "display_name": "Python 3.6.13 ('6.86x')",
   "language": "python",
   "name": "python3"
  },
  "language_info": {
   "codemirror_mode": {
    "name": "ipython",
    "version": 3
   },
   "file_extension": ".py",
   "mimetype": "text/x-python",
   "name": "python",
   "nbconvert_exporter": "python",
   "pygments_lexer": "ipython3",
   "version": "3.6.13"
  },
  "orig_nbformat": 4
 },
 "nbformat": 4,
 "nbformat_minor": 2
}
