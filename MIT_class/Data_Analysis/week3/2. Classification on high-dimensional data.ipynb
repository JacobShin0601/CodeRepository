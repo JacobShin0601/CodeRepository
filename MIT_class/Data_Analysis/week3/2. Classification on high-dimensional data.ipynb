{
 "cells": [
  {
   "cell_type": "code",
   "execution_count": 2,
   "metadata": {},
   "outputs": [],
   "source": [
    "import numpy as np\n",
    "from numpy import linalg\n"
   ]
  },
  {
   "cell_type": "markdown",
   "metadata": {},
   "source": [
    "Bayes Rule for Classification, Quadratic Discriminant Analysis (QDA) and Linear Discriminant Analysis (LDA)"
   ]
  },
  {
   "cell_type": "code",
   "execution_count": 3,
   "metadata": {},
   "outputs": [
    {
     "name": "stdout",
     "output_type": "stream",
     "text": [
      "[[ 0.70710678  0.70710678]\n",
      " [ 0.70710678 -0.70710678]]\n"
     ]
    }
   ],
   "source": [
    "X = np.array([1, 1, 1, -1])*(1/np.sqrt(2))\n",
    "X = X.reshape(2, 2)\n",
    "print(X)"
   ]
  },
  {
   "cell_type": "code",
   "execution_count": 4,
   "metadata": {},
   "outputs": [],
   "source": [
    "### Linear Boundary\n",
    "### ((mu_1^2-mu_0^2)/(2*sigma^2)+ln((1-p)/p))/(2*(mu_1-mu_0)/(2*sigma^2))\n",
    "\n",
    "mu0 = np.array([0, 0])\n",
    "mu1 = np.array([1, 0])\n",
    "\n",
    "v_sig_squared = np.array([1, 1]) * (1/np.sqrt(2))\n",
    "v_1 = np.array([1, -1]) * (1/np.sqrt(2))\n",
    "\n"
   ]
  },
  {
   "cell_type": "code",
   "execution_count": 19,
   "metadata": {},
   "outputs": [
    {
     "name": "stdout",
     "output_type": "stream",
     "text": [
      "[[ 0.70710678  0.70710678]\n",
      " [ 0.70710678 -0.70710678]] [[2 0]\n",
      " [0 1]]\n",
      "[[ 0.5         0.70710678]\n",
      " [ 0.5        -0.70710678]]\n"
     ]
    }
   ],
   "source": [
    "V = np.array([1, 1, 1, -1])*(1/np.sqrt(2))\n",
    "V = V.reshape(2, 2)\n",
    "L = np.array([2, 0, 0, 1])\n",
    "L = L.reshape(2, 2)\n",
    "\n",
    "print(V, L)\n",
    "\n",
    "P = V.dot(np.array([[1/np.sqrt(2), 0], [0, 1]]))\n",
    "\n",
    "print(P)"
   ]
  }
 ],
 "metadata": {
  "kernelspec": {
   "display_name": "Python 3.6.13 ('6.86x')",
   "language": "python",
   "name": "python3"
  },
  "language_info": {
   "codemirror_mode": {
    "name": "ipython",
    "version": 3
   },
   "file_extension": ".py",
   "mimetype": "text/x-python",
   "name": "python",
   "nbconvert_exporter": "python",
   "pygments_lexer": "ipython3",
   "version": "3.6.13"
  },
  "orig_nbformat": 4,
  "vscode": {
   "interpreter": {
    "hash": "9b1ceda625d8b52644e2bb922a597b4e19cdaeb71f5a1871c834a12a8e9f86bf"
   }
  }
 },
 "nbformat": 4,
 "nbformat_minor": 2
}
