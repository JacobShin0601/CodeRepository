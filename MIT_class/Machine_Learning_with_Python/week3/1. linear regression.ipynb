{
 "cells": [
  {
   "cell_type": "code",
   "execution_count": 4,
   "metadata": {},
   "outputs": [],
   "source": [
    "import numpy as np"
   ]
  },
  {
   "cell_type": "code",
   "execution_count": 5,
   "metadata": {},
   "outputs": [],
   "source": [
    "x = np.array([[1, 0, 1], [1, 1, 1], [1, 1, -1], [-1, 1, 1]])\n",
    "y = np.array([2, 2.7, -0.7, 2])\n",
    "theta = np.array([0, 1, 2])"
   ]
  },
  {
   "cell_type": "code",
   "execution_count": 6,
   "metadata": {},
   "outputs": [
    {
     "name": "stdout",
     "output_type": "stream",
     "text": [
      "[ 0.  -0.3  0.3 -1. ]\n",
      "[0.    0.045 0.045 0.5  ]\n",
      "0.1475\n"
     ]
    }
   ],
   "source": [
    "z = y - theta.dot(x.T)\n",
    "print(z)\n",
    "\n",
    "# Loss_h = np.ones_like(R_matrix) - R_matrix\n",
    "# print(Loss_h)\n",
    "\n",
    "# sum_loss = np.sum(Loss_h)/4\n",
    "# print(sum_loss)\n",
    "\n",
    "new_loss = (z**2)/2\n",
    "print(new_loss)\n",
    "\n",
    "new_sum_loss = np.sum(new_loss)/4\n",
    "print(new_sum_loss)\n",
    "\n"
   ]
  },
  {
   "cell_type": "code",
   "execution_count": 11,
   "metadata": {},
   "outputs": [],
   "source": [
    "import scipy\n",
    "from scipy.special import comb"
   ]
  },
  {
   "cell_type": "code",
   "execution_count": 12,
   "metadata": {},
   "outputs": [
    {
     "name": "stdout",
     "output_type": "stream",
     "text": [
      "585275.0\n"
     ]
    }
   ],
   "source": [
    "deg1 = scipy.special.comb(150, 1)\n",
    "deg2 = scipy.special.comb(151, 2)\n",
    "deg3 = scipy.special.comb(152, 3)\n",
    "\n",
    "result = deg1 + deg2 + deg3\n",
    "print(result)"
   ]
  },
  {
   "cell_type": "code",
   "execution_count": 13,
   "metadata": {},
   "outputs": [
    {
     "name": "stdout",
     "output_type": "stream",
     "text": [
      "1.4142135623730951\n"
     ]
    }
   ],
   "source": [
    "x = np.array([1, 0, 0])\n",
    "x_prime = np.array([0, 1, 0])\n",
    "\n",
    "diff = x - x_prime\n",
    "\n",
    "dist = np.linalg.norm(diff)\n",
    "print(dist)"
   ]
  },
  {
   "cell_type": "code",
   "execution_count": 16,
   "metadata": {},
   "outputs": [],
   "source": [
    "from numpy import linalg"
   ]
  },
  {
   "cell_type": "code",
   "execution_count": 18,
   "metadata": {},
   "outputs": [
    {
     "name": "stdout",
     "output_type": "stream",
     "text": [
      "[[24 12  6]\n",
      " [ 0  0  0]\n",
      " [12  6  3]\n",
      " [24 12  6]]\n"
     ]
    }
   ],
   "source": [
    "U0 = np.array([6, 0, 3, 6])\n",
    "V0 = np.array([4, 2, 1])\n",
    "X0 = np.outer(U0, V0)\n",
    "print(X0)"
   ]
  },
  {
   "cell_type": "code",
   "execution_count": 19,
   "metadata": {},
   "outputs": [
    {
     "name": "stdout",
     "output_type": "stream",
     "text": [
      "51.0\n"
     ]
    }
   ],
   "source": [
    "U0_2 = np.sum(U0**2)\n",
    "V0_2 = np.sum(V0**2)\n",
    "\n",
    "regul = (U0_2 + V0_2)/2\n",
    "print(regul)"
   ]
  }
 ],
 "metadata": {
  "kernelspec": {
   "display_name": "Python 3.6.13 ('6.86x')",
   "language": "python",
   "name": "python3"
  },
  "language_info": {
   "codemirror_mode": {
    "name": "ipython",
    "version": 3
   },
   "file_extension": ".py",
   "mimetype": "text/x-python",
   "name": "python",
   "nbconvert_exporter": "python",
   "pygments_lexer": "ipython3",
   "version": "3.6.13"
  },
  "orig_nbformat": 4,
  "vscode": {
   "interpreter": {
    "hash": "9b1ceda625d8b52644e2bb922a597b4e19cdaeb71f5a1871c834a12a8e9f86bf"
   }
  }
 },
 "nbformat": 4,
 "nbformat_minor": 2
}
