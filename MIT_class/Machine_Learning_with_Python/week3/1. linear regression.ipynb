{
 "cells": [
  {
   "cell_type": "code",
   "execution_count": 23,
   "metadata": {},
   "outputs": [],
   "source": [
    "import numpy as np"
   ]
  },
  {
   "cell_type": "code",
   "execution_count": 24,
   "metadata": {},
   "outputs": [],
   "source": [
    "x = np.array([[1, 0, 1], [1, 1, 1], [1, 1, -1], [-1, 1, 1]])\n",
    "y = np.array([2, 2.7, -0.7, 2])\n",
    "theta = np.array([0, 1, 2])"
   ]
  },
  {
   "cell_type": "code",
   "execution_count": 26,
   "metadata": {},
   "outputs": [
    {
     "name": "stdout",
     "output_type": "stream",
     "text": [
      "[ 0.  -0.3  0.3 -1. ]\n",
      "[0.    0.045 0.045 0.5  ]\n",
      "0.1475\n"
     ]
    }
   ],
   "source": [
    "z = y - theta.dot(x.T)\n",
    "print(z)\n",
    "\n",
    "# Loss_h = np.ones_like(R_matrix) - R_matrix\n",
    "# print(Loss_h)\n",
    "\n",
    "# sum_loss = np.sum(Loss_h)/4\n",
    "# print(sum_loss)\n",
    "\n",
    "new_loss = (z**2)/2\n",
    "print(new_loss)\n",
    "\n",
    "new_sum_loss = np.sum(new_loss)/4\n",
    "print(new_sum_loss)\n",
    "\n"
   ]
  }
 ],
 "metadata": {
  "interpreter": {
   "hash": "c4cd6255e7d506af5b310c9db8e5590bb7e9ff47ad141b2fd33807f877700131"
  },
  "kernelspec": {
   "display_name": "Python 3.6.13 ('6.86x')",
   "language": "python",
   "name": "python3"
  },
  "language_info": {
   "codemirror_mode": {
    "name": "ipython",
    "version": 3
   },
   "file_extension": ".py",
   "mimetype": "text/x-python",
   "name": "python",
   "nbconvert_exporter": "python",
   "pygments_lexer": "ipython3",
   "version": "3.6.13"
  },
  "orig_nbformat": 4
 },
 "nbformat": 4,
 "nbformat_minor": 2
}
