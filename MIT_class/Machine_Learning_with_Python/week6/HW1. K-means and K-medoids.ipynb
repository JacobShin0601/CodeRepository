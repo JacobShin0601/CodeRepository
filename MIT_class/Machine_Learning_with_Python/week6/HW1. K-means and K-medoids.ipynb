{
 "cells": [
  {
   "cell_type": "code",
   "execution_count": 8,
   "metadata": {},
   "outputs": [],
   "source": [
    "import numpy as np"
   ]
  },
  {
   "cell_type": "code",
   "execution_count": 9,
   "metadata": {},
   "outputs": [],
   "source": [
    "x = np.array([[0, -6], [4, 4], [0, 0], [-5, 2]])\n",
    "k = 2\n",
    "init_center = np.array([[-5, 2], [0, -6]])\n",
    "\n",
    "n, d = x.shape"
   ]
  },
  {
   "cell_type": "code",
   "execution_count": 10,
   "metadata": {},
   "outputs": [],
   "source": [
    "def closest_kmedoids(x, z, ord):\n",
    "    \"\"\"\n",
    "    Assigns data x to cluster whose center z is closest, and the associated cost\n",
    "        using k-medoids.\n",
    "    :param x:\n",
    "    :type x:\n",
    "    :param z:\n",
    "    :type z:\n",
    "    :return:\n",
    "    :rtype: dictionary, float\n",
    "    \"\"\"\n",
    "    cost = 0\n",
    "    clusters = {0: [], 1: []}\n",
    "    for i in range(n):\n",
    "        difference = np.subtract(x[i], z)\n",
    "        norm = np.linalg.norm(difference, ord=ord, axis=1)\n",
    "        minimum = np.amin(norm)\n",
    "        cost += np.sum(minimum)\n",
    "\n",
    "        cluster_member = np.where(norm == minimum)[0][0]\n",
    "        clusters[cluster_member].append(x[i])\n",
    "\n",
    "    return clusters, cost"
   ]
  },
  {
   "cell_type": "code",
   "execution_count": 11,
   "metadata": {},
   "outputs": [],
   "source": [
    "def closest_kmeans(x, z, ord):\n",
    "    \"\"\"\n",
    "    :param x:\n",
    "    :type x:\n",
    "    :param z:\n",
    "    :type z:\n",
    "    :return:\n",
    "    :rtype:\n",
    "    \"\"\"\n",
    "    cost = 0\n",
    "    clusters = {0: [], 1: []}\n",
    "    for i in range(n):\n",
    "        difference = np.subtract(x[i], z)\n",
    "        norm_sq = np.linalg.norm(difference, ord=ord, axis=1)\n",
    "        minimum = np.amin(norm_sq)\n",
    "        cost += np.sum(minimum)\n",
    "\n",
    "        cluster_member = np.where(norm_sq == minimum)[0][0]\n",
    "        clusters[cluster_member].append(x[i])\n",
    "\n",
    "    centers = {0: [], 1: []}\n",
    "    for i in centers.keys():\n",
    "        centers[i] = np.average(clusters[i], axis=0)\n",
    "\n",
    "    return clusters, cost, "
   ]
  },
  {
   "cell_type": "code",
   "execution_count": 13,
   "metadata": {},
   "outputs": [
    {
     "name": "stdout",
     "output_type": "stream",
     "text": [
      "({0: [array([4, 4]), array([-5,  2])], 1: [array([ 0, -6]), array([0, 0])]}, 17.0)\n",
      "({0: [array([4, 4]), array([0, 0]), array([-5,  2])], 1: [array([ 0, -6])]}, 14.604709264427392)\n",
      "({0: [array([4, 4]), array([-5,  2])], 1: [array([ 0, -6]), array([0, 0])]}, 17.0)\n"
     ]
    }
   ],
   "source": [
    "def main():\n",
    "    print(closest_kmedoids(x, init_center, ord=1))\n",
    "    print(closest_kmedoids(x, init_center, ord=2))\n",
    "    print(closest_kmeans(x, init_center, ord=1))\n",
    "\n",
    "\n",
    "if __name__ == \"__main__\":\n",
    "    main()"
   ]
  },
  {
   "cell_type": "markdown",
   "metadata": {},
   "source": [
    "##Packages"
   ]
  },
  {
   "cell_type": "code",
   "execution_count": 15,
   "metadata": {},
   "outputs": [],
   "source": [
    "from sklearn_extra.cluster import KMedoids"
   ]
  },
  {
   "cell_type": "code",
   "execution_count": 24,
   "metadata": {},
   "outputs": [
    {
     "data": {
      "text/plain": [
       "KMedoids(init='build', metric='l2', n_clusters=2, random_state=0)"
      ]
     },
     "execution_count": 24,
     "metadata": {},
     "output_type": "execute_result"
    }
   ],
   "source": [
    "KMed_l2 = KMedoids(n_clusters=k, metric='l2', max_iter=300, random_state=0, init='build')\n",
    "KMed_l2.fit(x)\n"
   ]
  },
  {
   "cell_type": "code",
   "execution_count": 27,
   "metadata": {},
   "outputs": [
    {
     "data": {
      "text/plain": [
       "array([1, 0, 0, 0])"
      ]
     },
     "execution_count": 27,
     "metadata": {},
     "output_type": "execute_result"
    }
   ],
   "source": [
    "KMed_l2.labels_\n",
    "# KMed_l2.cluster_centers_"
   ]
  },
  {
   "cell_type": "code",
   "execution_count": 34,
   "metadata": {},
   "outputs": [
    {
     "data": {
      "text/plain": [
       "KMedoids(init='random', metric='l1', n_clusters=2, random_state=0)"
      ]
     },
     "execution_count": 34,
     "metadata": {},
     "output_type": "execute_result"
    }
   ],
   "source": [
    "KMed_l1 = KMedoids(n_clusters=k, metric='l1', max_iter=300, random_state=0, init='random')\n",
    "KMed_l1.fit(x)\n"
   ]
  },
  {
   "cell_type": "code",
   "execution_count": 37,
   "metadata": {},
   "outputs": [
    {
     "data": {
      "text/plain": [
       "array([[ 0, -6],\n",
       "       [-5,  2]])"
      ]
     },
     "execution_count": 37,
     "metadata": {},
     "output_type": "execute_result"
    }
   ],
   "source": [
    "KMed_l1.labels_\n",
    "KMed_l1.cluster_centers_"
   ]
  },
  {
   "cell_type": "code",
   "execution_count": 39,
   "metadata": {},
   "outputs": [],
   "source": [
    "from sklearn.cluster import KMeans\n"
   ]
  },
  {
   "cell_type": "code",
   "execution_count": 45,
   "metadata": {},
   "outputs": [
    {
     "data": {
      "text/plain": [
       "KMeans(init='random', n_clusters=2)"
      ]
     },
     "execution_count": 45,
     "metadata": {},
     "output_type": "execute_result"
    }
   ],
   "source": [
    "KM = KMeans(n_clusters=2, init='random', n_init=10, max_iter=300, tol=0.0001, verbose=0, random_state=None, copy_x=True)\n",
    "KM.fit(x)"
   ]
  },
  {
   "cell_type": "code",
   "execution_count": 46,
   "metadata": {},
   "outputs": [
    {
     "ename": "ValueError",
     "evalue": "init needs to be one of the following: ['random', 'heuristic', 'k-medoids++', 'build']",
     "output_type": "error",
     "traceback": [
      "\u001b[0;31m---------------------------------------------------------------------------\u001b[0m",
      "\u001b[0;31mValueError\u001b[0m                                Traceback (most recent call last)",
      "\u001b[0;32m<ipython-input-46-9c0a8d7dd96f>\u001b[0m in \u001b[0;36m<module>\u001b[0;34m\u001b[0m\n\u001b[1;32m      1\u001b[0m \u001b[0mKM_l1\u001b[0m \u001b[0;34m=\u001b[0m \u001b[0mKMedoids\u001b[0m\u001b[0;34m(\u001b[0m\u001b[0mn_clusters\u001b[0m\u001b[0;34m=\u001b[0m\u001b[0mk\u001b[0m\u001b[0;34m,\u001b[0m \u001b[0mmetric\u001b[0m\u001b[0;34m=\u001b[0m\u001b[0;34m'l1'\u001b[0m\u001b[0;34m,\u001b[0m \u001b[0mmax_iter\u001b[0m\u001b[0;34m=\u001b[0m\u001b[0;36m300\u001b[0m\u001b[0;34m,\u001b[0m \u001b[0mrandom_state\u001b[0m\u001b[0;34m=\u001b[0m\u001b[0;36m0\u001b[0m\u001b[0;34m,\u001b[0m \u001b[0minit\u001b[0m\u001b[0;34m=\u001b[0m\u001b[0;34m'k-mean'\u001b[0m\u001b[0;34m)\u001b[0m\u001b[0;34m\u001b[0m\u001b[0;34m\u001b[0m\u001b[0m\n\u001b[0;32m----> 2\u001b[0;31m \u001b[0mKM_l1\u001b[0m\u001b[0;34m.\u001b[0m\u001b[0mfit\u001b[0m\u001b[0;34m(\u001b[0m\u001b[0mx\u001b[0m\u001b[0;34m)\u001b[0m\u001b[0;34m\u001b[0m\u001b[0;34m\u001b[0m\u001b[0m\n\u001b[0m",
      "\u001b[0;32m~/opt/anaconda3/envs/6.86x/lib/python3.6/site-packages/sklearn_extra/cluster/_k_medoids.py\u001b[0m in \u001b[0;36mfit\u001b[0;34m(self, X, y)\u001b[0m\n\u001b[1;32m    185\u001b[0m         \u001b[0mrandom_state_\u001b[0m \u001b[0;34m=\u001b[0m \u001b[0mcheck_random_state\u001b[0m\u001b[0;34m(\u001b[0m\u001b[0mself\u001b[0m\u001b[0;34m.\u001b[0m\u001b[0mrandom_state\u001b[0m\u001b[0;34m)\u001b[0m\u001b[0;34m\u001b[0m\u001b[0;34m\u001b[0m\u001b[0m\n\u001b[1;32m    186\u001b[0m \u001b[0;34m\u001b[0m\u001b[0m\n\u001b[0;32m--> 187\u001b[0;31m         \u001b[0mself\u001b[0m\u001b[0;34m.\u001b[0m\u001b[0m_check_init_args\u001b[0m\u001b[0;34m(\u001b[0m\u001b[0;34m)\u001b[0m\u001b[0;34m\u001b[0m\u001b[0;34m\u001b[0m\u001b[0m\n\u001b[0m\u001b[1;32m    188\u001b[0m         \u001b[0mX\u001b[0m \u001b[0;34m=\u001b[0m \u001b[0mcheck_array\u001b[0m\u001b[0;34m(\u001b[0m\u001b[0mX\u001b[0m\u001b[0;34m,\u001b[0m \u001b[0maccept_sparse\u001b[0m\u001b[0;34m=\u001b[0m\u001b[0;34m[\u001b[0m\u001b[0;34m\"csr\"\u001b[0m\u001b[0;34m,\u001b[0m \u001b[0;34m\"csc\"\u001b[0m\u001b[0;34m]\u001b[0m\u001b[0;34m)\u001b[0m\u001b[0;34m\u001b[0m\u001b[0;34m\u001b[0m\u001b[0m\n\u001b[1;32m    189\u001b[0m         \u001b[0;32mif\u001b[0m \u001b[0mself\u001b[0m\u001b[0;34m.\u001b[0m\u001b[0mn_clusters\u001b[0m \u001b[0;34m>\u001b[0m \u001b[0mX\u001b[0m\u001b[0;34m.\u001b[0m\u001b[0mshape\u001b[0m\u001b[0;34m[\u001b[0m\u001b[0;36m0\u001b[0m\u001b[0;34m]\u001b[0m\u001b[0;34m:\u001b[0m\u001b[0;34m\u001b[0m\u001b[0;34m\u001b[0m\u001b[0m\n",
      "\u001b[0;32m~/opt/anaconda3/envs/6.86x/lib/python3.6/site-packages/sklearn_extra/cluster/_k_medoids.py\u001b[0m in \u001b[0;36m_check_init_args\u001b[0;34m(self)\u001b[0m\n\u001b[1;32m    165\u001b[0m                 \u001b[0;34m\"init needs to be one of \"\u001b[0m\u001b[0;34m\u001b[0m\u001b[0;34m\u001b[0m\u001b[0m\n\u001b[1;32m    166\u001b[0m                 \u001b[0;34m+\u001b[0m \u001b[0;34m\"the following: \"\u001b[0m\u001b[0;34m\u001b[0m\u001b[0;34m\u001b[0m\u001b[0m\n\u001b[0;32m--> 167\u001b[0;31m                 \u001b[0;34m+\u001b[0m \u001b[0;34m\"%s\"\u001b[0m \u001b[0;34m%\u001b[0m \u001b[0minit_methods\u001b[0m\u001b[0;34m\u001b[0m\u001b[0;34m\u001b[0m\u001b[0m\n\u001b[0m\u001b[1;32m    168\u001b[0m             )\n\u001b[1;32m    169\u001b[0m \u001b[0;34m\u001b[0m\u001b[0m\n",
      "\u001b[0;31mValueError\u001b[0m: init needs to be one of the following: ['random', 'heuristic', 'k-medoids++', 'build']"
     ]
    }
   ],
   "source": [
    "KM_l1 = KMedoids(n_clusters=k, metric='l1', max_iter=300, random_state=0, init='random')\n",
    "KM_l1.fit(x)\n"
   ]
  }
 ],
 "metadata": {
  "kernelspec": {
   "display_name": "Python 3.6.13 ('6.86x')",
   "language": "python",
   "name": "python3"
  },
  "language_info": {
   "codemirror_mode": {
    "name": "ipython",
    "version": 3
   },
   "file_extension": ".py",
   "mimetype": "text/x-python",
   "name": "python",
   "nbconvert_exporter": "python",
   "pygments_lexer": "ipython3",
   "version": "3.6.13"
  },
  "orig_nbformat": 4,
  "vscode": {
   "interpreter": {
    "hash": "9b1ceda625d8b52644e2bb922a597b4e19cdaeb71f5a1871c834a12a8e9f86bf"
   }
  }
 },
 "nbformat": 4,
 "nbformat_minor": 2
}
