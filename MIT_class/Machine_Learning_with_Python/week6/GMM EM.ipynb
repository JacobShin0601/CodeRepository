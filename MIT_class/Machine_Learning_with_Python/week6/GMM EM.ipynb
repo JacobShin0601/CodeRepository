{
 "cells": [
  {
   "cell_type": "code",
   "execution_count": 1,
   "metadata": {},
   "outputs": [],
   "source": [
    "import numpy as np\n"
   ]
  },
  {
   "cell_type": "code",
   "execution_count": 5,
   "metadata": {},
   "outputs": [],
   "source": [
    "mu = np.array([-3, 2])\n",
    "sigma2 = np.array([4, 4])\n",
    "p = np.array([0.5, 0.5])\n",
    "x = np.array([0.2, -0.9, -1, 1.2, 1.8])\n"
   ]
  },
  {
   "cell_type": "code",
   "execution_count": 6,
   "metadata": {},
   "outputs": [
    {
     "name": "stdout",
     "output_type": "stream",
     "text": [
      "[[0.29421497 0.62245933 0.65135486 0.10669059 0.05340333]\n",
      " [0.70578503 0.37754067 0.34864514 0.89330941 0.94659667]]\n"
     ]
    }
   ],
   "source": [
    "def posterior(x, mu, sigma2, p):\n",
    "    numerator1 = p[0] / np.sqrt(2 * np.pi * sigma2[0]) * np.exp(-(x - mu[0])**2./(2 * sigma2[0]))\n",
    "    numerator2 = p[1] / np.sqrt(2 * np.pi * sigma2[1]) * np.exp(-(x - mu[1])**2./(2 * sigma2[1]))\n",
    "\n",
    "    denominator = numerator1 + numerator2\n",
    "\n",
    "    return np.asarray([numerator1 / denominator, numerator2 / denominator])\n",
    "\n",
    "\n",
    "print(posterior(x, mu, sigma2, p))"
   ]
  },
  {
   "cell_type": "code",
   "execution_count": 7,
   "metadata": {},
   "outputs": [
    {
     "name": "stdout",
     "output_type": "stream",
     "text": [
      "[0.34562462 0.65437538]\n"
     ]
    }
   ],
   "source": [
    "def p_hat(x, mu, sigma2, p):\n",
    "    post = posterior(x, mu, sigma2, p)\n",
    "    n = len(x)\n",
    "\n",
    "    return np.sum(post, axis=1) / n\n",
    "\n",
    "\n",
    "print(p_hat(x, mu, sigma2, p))"
   ]
  },
  {
   "cell_type": "code",
   "execution_count": 8,
   "metadata": {},
   "outputs": [
    {
     "name": "stdout",
     "output_type": "stream",
     "text": [
      "[-0.53732895  0.6811291 ]\n"
     ]
    }
   ],
   "source": [
    "def mu_hat(x, mu, sigma2, p):\n",
    "    post = posterior(x, mu, sigma2, p)\n",
    "    phat = p_hat(x, mu, sigma2, p)\n",
    "    n = len(x)\n",
    "\n",
    "    return np.sum(x * post, axis=1) / (n * phat)\n",
    "\n",
    "\n",
    "print(mu_hat(x, mu, sigma2, p))"
   ]
  },
  {
   "cell_type": "code",
   "execution_count": 11,
   "metadata": {},
   "outputs": [
    {
     "name": "stdout",
     "output_type": "stream",
     "text": [
      "[0.57578591 1.07524796]\n"
     ]
    }
   ],
   "source": [
    "def sigma2_hat(x, mu, sigma2, p):\n",
    "    post = posterior(x, mu, sigma2, p)\n",
    "    phat = p_hat(x, mu, sigma2, p)\n",
    "    muhat = mu_hat(x, mu, sigma2, p)\n",
    "    n = len(x)\n",
    "    k = len(mu)\n",
    "    d = 1 ### dimension of feature vector x(i)\n",
    "\n",
    "    norm2 = np.zeros((k, n))\n",
    "    for j in range(k):\n",
    "        for i in range(n):\n",
    "            norm2[j, i] = (x[i] - muhat[j]) ** 2\n",
    "\n",
    "    # return np.sum(norm2 * post, axis=1) / (n * phat)\n",
    "    return np.sum(norm2 * post, axis=1) / np.sum(d * post, axis = 1)\n",
    "\n",
    "\n",
    "print(sigma2_hat(x, mu, sigma2, p))"
   ]
  }
 ],
 "metadata": {
  "kernelspec": {
   "display_name": "Python 3.6.13 ('6.86x')",
   "language": "python",
   "name": "python3"
  },
  "language_info": {
   "codemirror_mode": {
    "name": "ipython",
    "version": 3
   },
   "file_extension": ".py",
   "mimetype": "text/x-python",
   "name": "python",
   "nbconvert_exporter": "python",
   "pygments_lexer": "ipython3",
   "version": "3.6.13"
  },
  "orig_nbformat": 4,
  "vscode": {
   "interpreter": {
    "hash": "9b1ceda625d8b52644e2bb922a597b4e19cdaeb71f5a1871c834a12a8e9f86bf"
   }
  }
 },
 "nbformat": 4,
 "nbformat_minor": 2
}
