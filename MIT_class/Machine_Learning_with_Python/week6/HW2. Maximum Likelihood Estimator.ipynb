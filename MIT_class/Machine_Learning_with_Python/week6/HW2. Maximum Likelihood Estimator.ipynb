{
 "cells": [
  {
   "cell_type": "code",
   "execution_count": 5,
   "metadata": {},
   "outputs": [],
   "source": [
    "import numpy as np"
   ]
  },
  {
   "cell_type": "code",
   "execution_count": 6,
   "metadata": {},
   "outputs": [],
   "source": [
    "pi1, pi2, mu1, mu2, s12, s22 = 0.5, 0.5, 6, 7, 1, 4\n",
    "theta = [pi1, pi2, mu1, mu2, s12, s22]\n",
    "\n",
    "x = [-1, 0, 4, 5, 6]"
   ]
  },
  {
   "cell_type": "code",
   "execution_count": 18,
   "metadata": {},
   "outputs": [],
   "source": [
    "def log_likelihood(theta, x):\n",
    "    pi1, pi2, mu1, mu2, s12, s22 = theta\n",
    "    n = len(x)\n",
    "\n",
    "    sum = 0\n",
    "    for i in range(n):\n",
    "        temp = np.log(pi1 / np.sqrt(2 * np.pi * s12) *\n",
    "                      np.exp(-(x[i] - mu1) ** 2 / (2 * s12)) +\n",
    "                      pi2 / np.sqrt(2 * np.pi * s22) *\n",
    "                      np.exp(-(x[i] - mu2) ** 2 / (2 * s22))\n",
    "                      )\n",
    "\n",
    "        sum += temp\n",
    "\n",
    "    return sum"
   ]
  },
  {
   "cell_type": "code",
   "execution_count": 27,
   "metadata": {},
   "outputs": [],
   "source": [
    "def y_k(theta, x):\n",
    "    pi1, pi2, mu1, mu2, s12, s22 = theta\n",
    "    n = len(x)\n",
    "\n",
    "    p_i = np.zeros(n)\n",
    "\n",
    "    sum = 0\n",
    "    for i in range(n):\n",
    "        temp1 = np.log(pi1 / np.sqrt(2 * np.pi * s12) *\n",
    "                      np.exp(-(x[i] - mu1) ** 2 / (2 * s12)))\n",
    "\n",
    "        temp2 = np.log(pi2 / np.sqrt(2 * np.pi * s22) *\n",
    "                      np.exp(-(x[i] - mu2) ** 2 / (2 * s22))\n",
    "                      )\n",
    "\n",
    "        if temp1 > temp2 :\n",
    "            p_i[i] = 1\n",
    "        else :\n",
    "            p_i[i] = 2\n",
    "\n",
    "    return p_i"
   ]
  },
  {
   "cell_type": "code",
   "execution_count": 28,
   "metadata": {},
   "outputs": [
    {
     "name": "stdout",
     "output_type": "stream",
     "text": [
      "-24.512532330086678\n",
      "[2. 2. 2. 1. 1.]\n"
     ]
    }
   ],
   "source": [
    "def main():\n",
    "    print(log_likelihood(theta, x))\n",
    "    print(y_k(theta, x))\n",
    "\n",
    "\n",
    "if __name__ == \"__main__\":\n",
    "    main()"
   ]
  }
 ],
 "metadata": {
  "kernelspec": {
   "display_name": "Python 3.6.13 ('6.86x')",
   "language": "python",
   "name": "python3"
  },
  "language_info": {
   "codemirror_mode": {
    "name": "ipython",
    "version": 3
   },
   "file_extension": ".py",
   "mimetype": "text/x-python",
   "name": "python",
   "nbconvert_exporter": "python",
   "pygments_lexer": "ipython3",
   "version": "3.6.13"
  },
  "orig_nbformat": 4,
  "vscode": {
   "interpreter": {
    "hash": "9b1ceda625d8b52644e2bb922a597b4e19cdaeb71f5a1871c834a12a8e9f86bf"
   }
  }
 },
 "nbformat": 4,
 "nbformat_minor": 2
}
