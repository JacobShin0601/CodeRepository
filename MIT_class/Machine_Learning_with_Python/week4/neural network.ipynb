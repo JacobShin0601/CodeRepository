{
 "cells": [
  {
   "cell_type": "code",
   "execution_count": 15,
   "metadata": {},
   "outputs": [],
   "source": [
    "import numpy as np"
   ]
  },
  {
   "cell_type": "code",
   "execution_count": 29,
   "metadata": {},
   "outputs": [],
   "source": [
    "def ReLU(x):\n",
    "    return max(0, x)"
   ]
  },
  {
   "cell_type": "code",
   "execution_count": 10,
   "metadata": {},
   "outputs": [],
   "source": [
    "w11 = 1\n",
    "w21 = -1\n",
    "w01 = 1\n",
    "w12 = -1\n",
    "w22 = 1\n",
    "w02 = 1"
   ]
  },
  {
   "cell_type": "code",
   "execution_count": 19,
   "metadata": {},
   "outputs": [],
   "source": [
    "x = [(-1, -1), (1, -1), (-1, 1), (1, 1)]\n",
    "y = [1, -1, -1, 1]"
   ]
  },
  {
   "cell_type": "code",
   "execution_count": 20,
   "metadata": {},
   "outputs": [
    {
     "name": "stdout",
     "output_type": "stream",
     "text": [
      "1 1 / polarity:  1\n",
      "3 -1 / polarity:  -1\n",
      "-1 3 / polarity:  -1\n",
      "1 1 / polarity:  1\n"
     ]
    }
   ],
   "source": [
    "for i in range(len(y)):\n",
    "    f1_x = w01 + (w11*x[i][0] + w21*x[i][1])\n",
    "    f2_x = w02 + (w12*x[i][0] + w22*x[i][1])\n",
    "    print(f1_x, f2_x, '/ polarity: ', y[i])"
   ]
  },
  {
   "cell_type": "code",
   "execution_count": 30,
   "metadata": {},
   "outputs": [
    {
     "name": "stdout",
     "output_type": "stream",
     "text": [
      "1 1 / polarity:  1\n",
      "3 1 / polarity:  -1\n",
      "0 1 / polarity:  -1\n",
      "1 1 / polarity:  1\n"
     ]
    }
   ],
   "source": [
    "for i in range(len(y)):\n",
    "    f1_x = w01 + (w11*x[i][0] + w21*x[i][1])\n",
    "    f2_x = w02 + (w12*x[i][0] + w22*x[i][0])\n",
    "    f1 = ReLU(f1_x)\n",
    "    f2 = ReLU(f2_x)\n",
    "    print(f1, f2, '/ polarity: ', y[i])"
   ]
  },
  {
   "cell_type": "code",
   "execution_count": 31,
   "metadata": {},
   "outputs": [
    {
     "name": "stdout",
     "output_type": "stream",
     "text": [
      "0.7615941559557649 0.7615941559557649 / polarity:  1\n",
      "0.9950547536867305 -0.7615941559557649 / polarity:  -1\n",
      "-0.7615941559557649 0.9950547536867305 / polarity:  -1\n",
      "0.7615941559557649 0.7615941559557649 / polarity:  1\n"
     ]
    }
   ],
   "source": [
    "for i in range(len(y)):\n",
    "    f1_x = w01 + (w11*x[i][0] + w21*x[i][1])\n",
    "    f2_x = w02 + (w12*x[i][0] + w22*x[i][1])\n",
    "    f1 = np.tanh(f1_x)\n",
    "    f2 = np.tanh(f2_x)\n",
    "    print(f1, f2, '/ polarity: ', y[i])"
   ]
  }
 ],
 "metadata": {
  "kernelspec": {
   "display_name": "Python 3.6.13 ('6.86x')",
   "language": "python",
   "name": "python3"
  },
  "language_info": {
   "codemirror_mode": {
    "name": "ipython",
    "version": 3
   },
   "file_extension": ".py",
   "mimetype": "text/x-python",
   "name": "python",
   "nbconvert_exporter": "python",
   "pygments_lexer": "ipython3",
   "version": "3.6.13"
  },
  "orig_nbformat": 4,
  "vscode": {
   "interpreter": {
    "hash": "9b1ceda625d8b52644e2bb922a597b4e19cdaeb71f5a1871c834a12a8e9f86bf"
   }
  }
 },
 "nbformat": 4,
 "nbformat_minor": 2
}
