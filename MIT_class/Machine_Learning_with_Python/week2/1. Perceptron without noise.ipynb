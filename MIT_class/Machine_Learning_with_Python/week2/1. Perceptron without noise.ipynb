{
 "cells": [
  {
   "cell_type": "code",
   "execution_count": 1,
   "metadata": {},
   "outputs": [],
   "source": [
    "import numpy as np"
   ]
  },
  {
   "cell_type": "code",
   "execution_count": 2,
   "metadata": {},
   "outputs": [],
   "source": [
    "Xs = np.array([[np.cos(np.pi), 0], [0, np.cos(np.pi*2)]])\n",
    "Ys = np.array([1, 1])\n",
    "theta = np.array([0, 0])"
   ]
  },
  {
   "cell_type": "code",
   "execution_count": 3,
   "metadata": {},
   "outputs": [
    {
     "name": "stdout",
     "output_type": "stream",
     "text": [
      "count\n",
      "[-1.  0.]\n",
      "count\n",
      "[-1.  1.]\n"
     ]
    }
   ],
   "source": [
    "for j in range(5):\n",
    "    for i in range(len(Xs)):\n",
    "        if (Ys[i]*(np.dot(theta, Xs[i]))) <= 0:\n",
    "            print(\"count\")\n",
    "            #print((Ys[i]*(np.dot(theta, Xs[i]) + theta_naught)))\n",
    "            theta = theta + Ys[i]*Xs[i]\n",
    "            print(theta)"
   ]
  }
 ],
 "metadata": {
  "interpreter": {
   "hash": "9b1ceda625d8b52644e2bb922a597b4e19cdaeb71f5a1871c834a12a8e9f86bf"
  },
  "kernelspec": {
   "display_name": "Python 3.6.13 ('6.86x')",
   "language": "python",
   "name": "python3"
  },
  "language_info": {
   "codemirror_mode": {
    "name": "ipython",
    "version": 3
   },
   "file_extension": ".py",
   "mimetype": "text/x-python",
   "name": "python",
   "nbconvert_exporter": "python",
   "pygments_lexer": "ipython3",
   "version": "3.6.13"
  },
  "orig_nbformat": 4
 },
 "nbformat": 4,
 "nbformat_minor": 2
}
