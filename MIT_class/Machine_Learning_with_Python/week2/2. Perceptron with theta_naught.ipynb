{
 "cells": [
  {
   "cell_type": "code",
   "execution_count": 1,
   "metadata": {},
   "outputs": [],
   "source": [
    "import numpy as np"
   ]
  },
  {
   "cell_type": "code",
   "execution_count": 2,
   "metadata": {},
   "outputs": [],
   "source": [
    "Xs = np.array([[-4, 2], [-2, 1], [-1, -1], [2, 2], [1, -2]])\n",
    "Ys = np.array([1, 1, -1, -1, -1])\n",
    "theta = np.array([0, 0])\n",
    "theta_naught = np.array(0)"
   ]
  },
  {
   "cell_type": "code",
   "execution_count": 3,
   "metadata": {},
   "outputs": [],
   "source": [
    "Xs = np.array([[-4, 2], [-2, 1], [-1, -1], [2, 2], [1, -2]])\n",
    "Ys = np.array([1, 1, -1, -1, -1])\n",
    "theta = np.array([-2, 3])\n",
    "theta_naught = np.array(-4)"
   ]
  },
  {
   "cell_type": "code",
   "execution_count": 4,
   "metadata": {},
   "outputs": [],
   "source": [
    "for j in range(5):\n",
    "    for i in range(len(Xs)):\n",
    "        if (Ys[i]*(np.dot(theta, Xs[i]) + theta_naught)) <= 0:\n",
    "            #print((Ys[i]*(np.dot(theta, Xs[i]) + theta_naught)))\n",
    "            theta = theta + Ys[i]*Xs[i]\n",
    "            theta_naught = theta_naught + Ys[i]\n",
    "            print(theta, theta_naught)"
   ]
  },
  {
   "cell_type": "code",
   "execution_count": 10,
   "metadata": {},
   "outputs": [],
   "source": [
    "Xs = np.array([[0, 0], [2, 0], [3, 0], [0, 2], [2, 2], [5, 1], [5, 2], [2, 4], [4, 4], [5, 5]])\n",
    "Ys = np.array([-1, -1, -1, -1, -1, 1, 1, 1, 1, 1])\n",
    "theta = np.array([0, 0])\n",
    "theta_naught = np.array(0)"
   ]
  },
  {
   "cell_type": "code",
   "execution_count": 11,
   "metadata": {},
   "outputs": [
    {
     "name": "stdout",
     "output_type": "stream",
     "text": [
      "[0 0] -1\n",
      "[5 1] 0\n"
     ]
    }
   ],
   "source": [
    "for i in range(len(Ys)):\n",
    "    if (Ys[i]*(np.dot(theta, Xs[i]) + theta_naught)) <= 0:\n",
    "        #print((Ys[i]*(np.dot(theta, Xs[i]) + theta_naught)))\n",
    "        theta = theta + Ys[i]*Xs[i]\n",
    "        theta_naught = theta_naught + Ys[i]\n",
    "        print(theta, theta_naught)"
   ]
  },
  {
   "cell_type": "code",
   "execution_count": 30,
   "metadata": {},
   "outputs": [],
   "source": [
    "Xs = np.array([[0, 0], [2, 0], [3, 0], [0, 2], [2, 2], [5, 1], [5, 2], [2, 4], [4, 4], [5, 5]])\n",
    "Ys = np.array([-1, -1, -1, -1, -1, 1, 1, 1, 1, 1])\n",
    "theta = np.array([0, 0])\n",
    "theta_naught = np.array(0)"
   ]
  },
  {
   "cell_type": "code",
   "execution_count": 31,
   "metadata": {},
   "outputs": [
    {
     "name": "stdout",
     "output_type": "stream",
     "text": [
      "10.0\n"
     ]
    }
   ],
   "source": [
    "def hinge_loss_single(feature_vector, label, theta, theta_0):\n",
    "    ydash = label*(np.matmul(theta,feature_vector) + theta_0)\n",
    "    hinge = np.max([0.0, 1 - ydash*label])\n",
    "    #print(hinge)\n",
    "    return hinge\n",
    "\n",
    "def hinge_loss_full(feature_matrix, labels, theta, theta_0):\n",
    "    tothinge = 0\n",
    "    num = len(feature_matrix)\n",
    "    for i in range(num):\n",
    "        tothinge = tothinge + hinge_loss_single(feature_matrix[i], labels[i], theta, theta_0)\n",
    "        \n",
    "    hinge = tothinge\n",
    "    \n",
    "    return hinge\n",
    "\n",
    "print(hinge_loss_full(Xs, Ys, theta, theta_naught))"
   ]
  },
  {
   "cell_type": "code",
   "execution_count": 18,
   "metadata": {},
   "outputs": [],
   "source": [
    "from sklearn.svm import SVC\n",
    "import numpy as np\n",
    "import matplotlib.pyplot as plt\n",
    "from sklearn import svm, datasets"
   ]
  },
  {
   "cell_type": "code",
   "execution_count": 19,
   "metadata": {},
   "outputs": [
    {
     "data": {
      "text/plain": [
       "SVC(C=1.0, break_ties=False, cache_size=200, class_weight=None, coef0=0.0,\n",
       "    decision_function_shape='ovr', degree=3, gamma='scale', kernel='rbf',\n",
       "    max_iter=-1, probability=False, random_state=None, shrinking=True,\n",
       "    tol=0.001, verbose=False)"
      ]
     },
     "execution_count": 19,
     "metadata": {},
     "output_type": "execute_result"
    }
   ],
   "source": [
    "Xs = np.array([[0, 0], [2, 0], [3, 0], [0, 2], [2, 2], [5, 1], [5, 2], [2, 4], [4, 4], [5, 5]])\n",
    "Ys = np.array([-1, -1, -1, -1, -1, 1, 1, 1, 1, 1])\n",
    "theta = np.array([0, 0])\n",
    "theta_naught = np.array(0)\n",
    "\n",
    "clf = svm.SVC()\n",
    "clf.fit(Xs, Ys)"
   ]
  },
  {
   "cell_type": "code",
   "execution_count": 20,
   "metadata": {},
   "outputs": [
    {
     "data": {
      "text/plain": [
       "array([[0., 0.],\n",
       "       [3., 0.],\n",
       "       [0., 2.],\n",
       "       [2., 2.],\n",
       "       [5., 1.],\n",
       "       [5., 2.],\n",
       "       [2., 4.],\n",
       "       [5., 5.]])"
      ]
     },
     "execution_count": 20,
     "metadata": {},
     "output_type": "execute_result"
    }
   ],
   "source": [
    "clf.support_vectors_"
   ]
  },
  {
   "cell_type": "code",
   "execution_count": 21,
   "metadata": {},
   "outputs": [
    {
     "data": {
      "text/plain": [
       "array([0.11223637])"
      ]
     },
     "execution_count": 21,
     "metadata": {},
     "output_type": "execute_result"
    }
   ],
   "source": [
    "clf.intercept_"
   ]
  },
  {
   "cell_type": "code",
   "execution_count": 23,
   "metadata": {},
   "outputs": [
    {
     "data": {
      "text/plain": [
       "SVC(C=1.0, break_ties=False, cache_size=200, class_weight=None, coef0=0.0,\n",
       "    decision_function_shape='ovr', degree=3, gamma='scale', kernel='rbf',\n",
       "    max_iter=-1, probability=False, random_state=None, shrinking=True,\n",
       "    tol=0.001, verbose=False)"
      ]
     },
     "execution_count": 23,
     "metadata": {},
     "output_type": "execute_result"
    }
   ],
   "source": [
    "Xs = np.array([[0, 0], [2, 0], [3, 0], [0, 2], [2, 2], [5, 1], [5, 2], [2, 4], [4, 4], [5, 5]])\n",
    "Ys = np.array([-1, -1, -1, -1, -1, 1, 1, 1, 1, 1])\n",
    "theta = np.array([0, 0])\n",
    "theta_naught = np.array(0)\n",
    "\n",
    "clf = svm.SVC()\n",
    "clf.fit(Xs, Ys)"
   ]
  },
  {
   "cell_type": "code",
   "execution_count": 24,
   "metadata": {},
   "outputs": [],
   "source": [
    "from sklearn.metrics import hinge_loss"
   ]
  },
  {
   "cell_type": "code",
   "execution_count": 25,
   "metadata": {},
   "outputs": [],
   "source": [
    "est = svm.LinearSVC(random_state=0)"
   ]
  },
  {
   "cell_type": "code",
   "execution_count": 26,
   "metadata": {},
   "outputs": [
    {
     "data": {
      "text/plain": [
       "LinearSVC(C=1.0, class_weight=None, dual=True, fit_intercept=True,\n",
       "          intercept_scaling=1, loss='squared_hinge', max_iter=1000,\n",
       "          multi_class='ovr', penalty='l2', random_state=0, tol=0.0001,\n",
       "          verbose=0)"
      ]
     },
     "execution_count": 26,
     "metadata": {},
     "output_type": "execute_result"
    }
   ],
   "source": [
    "est.fit(Xs, Ys)"
   ]
  },
  {
   "cell_type": "code",
   "execution_count": 29,
   "metadata": {},
   "outputs": [
    {
     "name": "stdout",
     "output_type": "stream",
     "text": [
      "[ 1.67932134 -0.08002919]\n"
     ]
    }
   ],
   "source": [
    "def svm_sgd(X, Y):\n",
    "\n",
    "    w = np.zeros(len(X[0]))\n",
    "    eta = 1\n",
    "    epochs = 10\n",
    "\n",
    "\n",
    "    for epoch in range(1,epochs):\n",
    "        for i, x in enumerate(X):\n",
    "            if (Y[i]*np.dot(X[i], w)) < 1:\n",
    "                w = w + eta * ( (X[i] * Y[i]) + (-2  *(1/epoch)* w) )\n",
    "            else:\n",
    "                w = w + eta * (-2  *(1/epoch)* w)\n",
    "\n",
    "    return w\n",
    "\n",
    "w = svm_sgd(Xs, Ys)\n",
    "print(w)"
   ]
  },
  {
   "cell_type": "code",
   "execution_count": null,
   "metadata": {},
   "outputs": [],
   "source": []
  }
 ],
 "metadata": {
  "interpreter": {
   "hash": "9b1ceda625d8b52644e2bb922a597b4e19cdaeb71f5a1871c834a12a8e9f86bf"
  },
  "kernelspec": {
   "display_name": "Python 3.6.13 ('6.86x')",
   "language": "python",
   "name": "python3"
  },
  "language_info": {
   "codemirror_mode": {
    "name": "ipython",
    "version": 3
   },
   "file_extension": ".py",
   "mimetype": "text/x-python",
   "name": "python",
   "nbconvert_exporter": "python",
   "pygments_lexer": "ipython3",
   "version": "3.6.13"
  },
  "orig_nbformat": 4
 },
 "nbformat": 4,
 "nbformat_minor": 2
}
