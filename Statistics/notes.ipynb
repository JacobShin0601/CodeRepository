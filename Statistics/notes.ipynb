{
 "cells": [
  {
   "cell_type": "code",
   "execution_count": 2,
   "metadata": {},
   "outputs": [],
   "source": [
    "import scipy.stats\n",
    "from scipy.stats import binom\n",
    "import numpy as np\n"
   ]
  },
  {
   "cell_type": "code",
   "execution_count": 6,
   "metadata": {},
   "outputs": [
    {
     "name": "stdout",
     "output_type": "stream",
     "text": [
      "0.13020000000000007\n"
     ]
    }
   ],
   "source": [
    "prob = binom.pmf(1, 2, 0.07)\n",
    "print(prob)"
   ]
  },
  {
   "cell_type": "code",
   "execution_count": 26,
   "metadata": {},
   "outputs": [],
   "source": [
    "p1_estimate = 0.52\n",
    "p2_estimate = 0.35\n",
    "p_estimate = 0.0338\n",
    "\n",
    "p1_n = 501\n",
    "p1_r = 261\n",
    "p2_n = 252\n",
    "p2_r = 123\n",
    "p_n = p1_n + p2_n\n",
    "\n",
    "p1_estimate_sample = p1_r/p1_n\n",
    "p2_estimate_sample = p2_r/p2_n\n",
    "\n",
    "p1_var = p1_estimate*(1-p1_estimate)\n",
    "# print(p1_var)\n",
    "p2_var = p2_estimate*(1-p2_estimate)\n",
    "# print(p2_var)\n",
    "p_var = p_estimate*(1-p_estimate)\n",
    "\n"
   ]
  },
  {
   "cell_type": "code",
   "execution_count": 25,
   "metadata": {},
   "outputs": [
    {
     "name": "stdout",
     "output_type": "stream",
     "text": [
      "p1 - 90 percents confidence interval: (0.5108280511372926, 0.5291719488627075)\n",
      "p2 - 90 percents confidence interval: (0.33821262671101743, 0.36178737328898253)\n",
      "p - 90 percents confidence interval: (0.032821136461290895, 0.0347788635387091)\n"
     ]
    }
   ],
   "source": [
    "\n",
    "z_score_90p = 1.645\n",
    "\n",
    "def calculate_cf_itv(estimate, n, stdv, z_score):\n",
    "    cf_itv_neg = estimate - z_score*stdv/(np.sqrt(n))\n",
    "    cf_itv_pos = estimate + z_score*stdv/(np.sqrt(n))\n",
    "    \n",
    "    return (cf_itv_neg, cf_itv_pos)\n",
    "\n",
    "print('p1 - 90 percents confidence interval:', calculate_cf_itv(p1_estimate, p1_n, p1_var**1/2, z_score_90p))\n",
    "print('p2 - 90 percents confidence interval:', calculate_cf_itv(p2_estimate, p2_n, p2_var**1/2, z_score_90p))\n",
    "print('p - 90 percents confidence interval:', calculate_cf_itv(p_estimate, p_n, p_var**1/2, z_score_90p))\n",
    "# p_value_p1 = binom.cdf(p1_r, p1_n, p1_estimate)\n",
    "# print(format(1-p_value_p1, '.20f'))\n",
    "# print(format(2*min(p_value_p1, 1-p_value_p1), '.20f'))\n",
    "\n"
   ]
  },
  {
   "cell_type": "code",
   "execution_count": 28,
   "metadata": {},
   "outputs": [
    {
     "name": "stdout",
     "output_type": "stream",
     "text": [
      "2.354696545642409\n",
      "0.00926891864387808\n"
     ]
    }
   ],
   "source": [
    "z_score_sample = (p1_estimate_sample - p2_estimate_sample)/np.sqrt((p_estimate*(1-p_estimate))*(1/p1_n + 1/p2_n))\n",
    "print(z_score_sample)\n",
    "\n",
    "p_value = scipy.stats.norm.sf(abs(z_score_sample))\n",
    "print(p_value)"
   ]
  }
 ],
 "metadata": {
  "kernelspec": {
   "display_name": "Python 3.6.13 ('6.86x')",
   "language": "python",
   "name": "python3"
  },
  "language_info": {
   "codemirror_mode": {
    "name": "ipython",
    "version": 3
   },
   "file_extension": ".py",
   "mimetype": "text/x-python",
   "name": "python",
   "nbconvert_exporter": "python",
   "pygments_lexer": "ipython3",
   "version": "3.6.13"
  },
  "orig_nbformat": 4,
  "vscode": {
   "interpreter": {
    "hash": "c4cd6255e7d506af5b310c9db8e5590bb7e9ff47ad141b2fd33807f877700131"
   }
  }
 },
 "nbformat": 4,
 "nbformat_minor": 2
}
